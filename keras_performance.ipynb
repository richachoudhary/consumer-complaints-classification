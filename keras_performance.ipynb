{
 "cells": [
  {
   "cell_type": "markdown",
   "metadata": {},
   "source": [
    "# Deep Learning models "
   ]
  },
  {
   "cell_type": "code",
   "execution_count": 38,
   "metadata": {},
   "outputs": [
    {
     "name": "stdout",
     "output_type": "stream",
     "text": [
      "The autotime extension is already loaded. To reload it, use:\n",
      "  %reload_ext autotime\n",
      "time: 8.45 ms\n"
     ]
    }
   ],
   "source": [
    "import warnings\n",
    "warnings.filterwarnings(\"ignore\")\n",
    "%load_ext autotime\n",
    "import pandas as pd\n",
    "import numpy as np\n",
    "import os\n",
    "from sklearn.model_selection import train_test_split\n",
    "from sklearn import model_selection, preprocessing\n",
    "from keras.preprocessing.text import Tokenizer\n",
    "from keras.preprocessing.sequence import pad_sequences\n",
    "from keras.utils import to_categorical\n",
    "from keras.layers import Dense, Input, LSTM, Embedding, Dropout, Activation\n",
    "from keras.layers import Bidirectional, GlobalMaxPool1D, Conv1D, SimpleRNN\n",
    "from keras.models import Model\n",
    "from keras.models import Sequential\n",
    "from keras import initializers, regularizers, constraints, optimizers, layers\n",
    "from keras.layers import Dense, Input, Flatten, Dropout, BatchNormalization\n",
    "from keras.layers import Conv1D, MaxPooling1D, Embedding\n",
    "from tensorflow import keras\n",
    "from scipy import spatial\n",
    "import matplotlib.pyplot as plt\n",
    "from sklearn.manifold import TSNE"
   ]
  },
  {
   "cell_type": "code",
   "execution_count": 5,
   "metadata": {},
   "outputs": [
    {
     "data": {
      "text/plain": [
       "190126    has claimed i owe them 2700 for years despite ...\n",
       "Name: consumer_complaint_narrative, dtype: object"
      ]
     },
     "execution_count": 5,
     "metadata": {},
     "output_type": "execute_result"
    },
    {
     "name": "stdout",
     "output_type": "stream",
     "text": [
      "time: 5.43 s\n"
     ]
    }
   ],
   "source": [
    "\n",
    "df= pd.read_csv(\"consumer_complaints.csv\")\n",
    "df1 = df.dropna(subset= ['consumer_complaint_narrative'])\n",
    "df1['consumer_complaint_narrative']= df1['consumer_complaint_narrative'].str.lower()\n",
    "df1['consumer_complaint_narrative'] =df1['consumer_complaint_narrative'].str.replace(r'[^\\w\\s]',\"\")\n",
    "df1['consumer_complaint_narrative'] = df1['consumer_complaint_narrative'].str.replace(r\"xx+\\s\",\"\")\n",
    "df1['consumer_complaint_narrative'].head(1)"
   ]
  },
  {
   "cell_type": "code",
   "execution_count": 6,
   "metadata": {},
   "outputs": [
    {
     "name": "stdout",
     "output_type": "stream",
     "text": [
      "time: 289 ms\n"
     ]
    }
   ],
   "source": [
    "train_x, valid_x, train_y, valid_y = train_test_split(df1['consumer_complaint_narrative'], df1['product'],stratify=df1['product'], \n",
    "                                                    test_size=0.25)\n"
   ]
  },
  {
   "cell_type": "markdown",
   "metadata": {},
   "source": [
    "Tokenizer This class allows to vectorize a text corpus, by turning each text into either a sequence of integers (each integer being the index of a token in a dictionary) or into a vector where the coefficient for each token could be binary, based on word count, based on tf-idf...\n"
   ]
  },
  {
   "cell_type": "code",
   "execution_count": 7,
   "metadata": {},
   "outputs": [
    {
     "name": "stdout",
     "output_type": "stream",
     "text": [
      "time: 976 µs\n"
     ]
    }
   ],
   "source": [
    "tokenizer = Tokenizer(num_words=25000)"
   ]
  },
  {
   "cell_type": "markdown",
   "metadata": {},
   "source": [
    "Updates internal vocabulary based on a list of texts. In the case where texts contains lists, we assume each entry of the lists to be a token. Required before using texts_to_sequences or texts_to_matrix.\n"
   ]
  },
  {
   "cell_type": "code",
   "execution_count": 8,
   "metadata": {},
   "outputs": [
    {
     "name": "stdout",
     "output_type": "stream",
     "text": [
      "time: 6.36 s\n"
     ]
    }
   ],
   "source": [
    "tokenizer.fit_on_texts(train_x.values)"
   ]
  },
  {
   "cell_type": "code",
   "execution_count": 9,
   "metadata": {},
   "outputs": [
    {
     "name": "stdout",
     "output_type": "stream",
     "text": [
      "time: 6.36 s\n"
     ]
    }
   ],
   "source": [
    "train_sequences = tokenizer.texts_to_sequences(train_x.values)\n",
    "test_sequences = tokenizer.texts_to_sequences(valid_x.values)"
   ]
  },
  {
   "cell_type": "markdown",
   "metadata": {},
   "source": [
    "Padding pad_sequences is used to ensure that all sequences in a list have the same length. By default this is done by padding 0 in the beginning of each sequence until each sequence has the same length as the longest sequence. padding= 'post' will append 0 at the end of the sequence"
   ]
  },
  {
   "cell_type": "code",
   "execution_count": 10,
   "metadata": {},
   "outputs": [
    {
     "name": "stdout",
     "output_type": "stream",
     "text": [
      "Found 57636 unique tokens.\n",
      "time: 8.73 ms\n"
     ]
    }
   ],
   "source": [
    "print('Found %s unique tokens.' % len(set(tokenizer.word_index)))"
   ]
  },
  {
   "cell_type": "code",
   "execution_count": 11,
   "metadata": {},
   "outputs": [
    {
     "data": {
      "text/plain": [
       "807"
      ]
     },
     "execution_count": 11,
     "metadata": {},
     "output_type": "execute_result"
    },
    {
     "name": "stdout",
     "output_type": "stream",
     "text": [
      "time: 729 ms\n"
     ]
    }
   ],
   "source": [
    "total_complaints = np.append(train_x.values,valid_x.values)\n",
    "MAX_SEQUENCE_LENGTH = max([len(c.split()) for c in total_complaints])\n",
    "MAX_SEQUENCE_LENGTH"
   ]
  },
  {
   "cell_type": "code",
   "execution_count": 12,
   "metadata": {},
   "outputs": [
    {
     "name": "stdout",
     "output_type": "stream",
     "text": [
      "time: 1.29 s\n"
     ]
    }
   ],
   "source": [
    "train_data = pad_sequences(train_sequences, maxlen=MAX_SEQUENCE_LENGTH,padding='post')\n",
    "test_data = pad_sequences(test_sequences, maxlen=MAX_SEQUENCE_LENGTH,padding='post')"
   ]
  },
  {
   "cell_type": "code",
   "execution_count": 13,
   "metadata": {},
   "outputs": [
    {
     "name": "stdout",
     "output_type": "stream",
     "text": [
      "(50104, 807)\n",
      "(16702, 807)\n",
      "time: 1.25 ms\n"
     ]
    }
   ],
   "source": [
    "print(train_data.shape)\n",
    "print(test_data.shape)"
   ]
  },
  {
   "cell_type": "code",
   "execution_count": 14,
   "metadata": {},
   "outputs": [
    {
     "name": "stdout",
     "output_type": "stream",
     "text": [
      "time: 136 ms\n"
     ]
    }
   ],
   "source": [
    "enc = preprocessing.LabelEncoder()\n",
    "train_labels = enc.fit_transform(train_y)\n",
    "test_labels = enc.fit_transform(valid_y)"
   ]
  },
  {
   "cell_type": "code",
   "execution_count": 15,
   "metadata": {},
   "outputs": [
    {
     "name": "stdout",
     "output_type": "stream",
     "text": [
      "['Bank account or service' 'Consumer Loan' 'Credit card'\n",
      " 'Credit reporting' 'Debt collection' 'Money transfers' 'Mortgage'\n",
      " 'Other financial service' 'Payday loan' 'Prepaid card' 'Student loan']\n",
      "(array([ 0,  1,  2,  3,  4,  5,  6,  7,  8,  9, 10]), array([ 4283,  2758,  5947,  9394, 13164,   500, 11189,    83,   544,\n",
      "         646,  1596]))\n",
      "(array([ 0,  1,  2,  3,  4,  5,  6,  7,  8,  9, 10]), array([1428,  920, 1982, 3132, 4388,  166, 3730,   27,  182,  215,  532]))\n",
      "time: 61.7 ms\n"
     ]
    }
   ],
   "source": [
    "print(enc.classes_)\n",
    "print(np.unique(train_labels, return_counts=True))\n",
    "print(np.unique(test_labels, return_counts=True))"
   ]
  },
  {
   "cell_type": "markdown",
   "metadata": {},
   "source": [
    "to_categorical behave like onehotencoding technique if your particular categories is present then it mark as 1 else 0 in remain row"
   ]
  },
  {
   "cell_type": "code",
   "execution_count": 16,
   "metadata": {},
   "outputs": [
    {
     "name": "stdout",
     "output_type": "stream",
     "text": [
      "Shape of data tensor: (50104, 807)\n",
      "Shape of label tensor: (50104, 11)\n",
      "Shape of label tensor: (16702, 11)\n",
      "time: 50.9 ms\n"
     ]
    }
   ],
   "source": [
    "labels_train = to_categorical(np.asarray(train_labels))\n",
    "labels_test = to_categorical(np.asarray(test_labels))\n",
    "print('Shape of data tensor:', train_data.shape)\n",
    "print('Shape of label tensor:', labels_train.shape)\n",
    "print('Shape of label tensor:', labels_test.shape)"
   ]
  },
  {
   "cell_type": "code",
   "execution_count": 17,
   "metadata": {},
   "outputs": [
    {
     "name": "stdout",
     "output_type": "stream",
     "text": [
      "time: 60.3 ms\n"
     ]
    }
   ],
   "source": [
    "path_to_zip_file= \"/home/richachoudhary/my_project_dir/Notebooks/consumer_complaints/consumer-complaints-classification/glove.6B.zip\"\n",
    "directory_to_extract_to= \"/home/richachoudhary/my_project_dir/Notebooks/consumer_complaints/consumer-complaints-classification\""
   ]
  },
  {
   "cell_type": "code",
   "execution_count": 18,
   "metadata": {},
   "outputs": [
    {
     "name": "stdout",
     "output_type": "stream",
     "text": [
      "time: 47.6 s\n"
     ]
    }
   ],
   "source": [
    "import zipfile\n",
    "with zipfile.ZipFile(path_to_zip_file, 'r') as zip_ref:\n",
    "    zip_ref.extractall(directory_to_extract_to)"
   ]
  },
  {
   "cell_type": "code",
   "execution_count": 19,
   "metadata": {},
   "outputs": [
    {
     "name": "stdout",
     "output_type": "stream",
     "text": [
      "Found 400000 word vectors.\n",
      "time: 33.6 s\n"
     ]
    }
   ],
   "source": [
    "#!wget http://nlp.stanford.edu/data/glove.6B.zip\n",
    "GLOVE_DIR= \"/home/richachoudhary/my_project_dir/Notebooks/consumer_complaints/consumer-complaints-classification/\"\n",
    "f = open(os.path.join(GLOVE_DIR, 'glove.6B.300d.txt'))\n",
    "embeddings_index = {}\n",
    "for line in f:\n",
    "    values = line.split()\n",
    "    word = values[0]\n",
    "    coefs = np.asarray(values[1:], dtype='float32')\n",
    "    embeddings_index[word] = coefs\n",
    "f.close()\n",
    "\n",
    "print('Found %s word vectors.' % len(embeddings_index))"
   ]
  },
  {
   "cell_type": "code",
   "execution_count": 20,
   "metadata": {},
   "outputs": [
    {
     "name": "stdout",
     "output_type": "stream",
     "text": [
      "time: 112 ms\n"
     ]
    }
   ],
   "source": [
    "EMBEDDING_DIM = 300\n",
    "embedding_matrix = np.zeros((len(tokenizer.word_index) + 1, EMBEDDING_DIM))\n",
    "for word, i in tokenizer.word_index.items():\n",
    "    embedding_vector = embeddings_index.get(word)\n",
    "    if embedding_vector is not None:\n",
    "        # words not found in embedding index will be all-zeros.\n",
    "        embedding_matrix[i] = embedding_vector"
   ]
  },
  {
   "cell_type": "code",
   "execution_count": 21,
   "metadata": {},
   "outputs": [
    {
     "data": {
      "text/plain": [
       "[('loans', 211)]"
      ]
     },
     "execution_count": 21,
     "metadata": {},
     "output_type": "execute_result"
    },
    {
     "name": "stdout",
     "output_type": "stream",
     "text": [
      "time: 390 ms\n"
     ]
    }
   ],
   "source": [
    "[(k,v) for k,v in tokenizer.word_index.items() if k=='loans']"
   ]
  },
  {
   "cell_type": "code",
   "execution_count": 22,
   "metadata": {},
   "outputs": [
    {
     "data": {
      "text/plain": [
       "array([-4.43610013e-01,  1.64360002e-01, -1.60870001e-01,  6.61040008e-01,\n",
       "       -5.00530005e-01, -1.43739998e-01,  2.65260011e-01,  6.11479990e-02,\n",
       "       -2.41689995e-01, -2.10319996e-01, -1.71979994e-01,  8.41530040e-03,\n",
       "       -2.02399999e-01,  7.74829984e-02, -7.32339993e-02, -9.01950002e-02,\n",
       "       -1.38490004e-02, -3.67410004e-01,  8.03889986e-03,  2.54850000e-01,\n",
       "        9.80329990e-01,  3.11309993e-01,  2.19139993e-01,  2.53960013e-01,\n",
       "       -1.87759995e-02,  1.33970007e-01, -1.53139994e-01, -1.00319996e-01,\n",
       "       -1.87739998e-01, -7.12760016e-02, -1.82139993e-01,  2.04889998e-01,\n",
       "       -4.87699986e-01, -7.21449971e-01, -4.84589994e-01, -5.57869971e-01,\n",
       "        3.42449993e-01,  4.33030017e-02,  4.95429993e-01, -2.64189988e-01,\n",
       "        2.40630001e-01, -7.34099984e-01, -5.18419981e-01, -1.00359999e-01,\n",
       "        3.29310000e-01, -2.03160003e-01,  4.18740004e-01,  1.74840003e-01,\n",
       "        1.44130006e-01, -2.02270001e-01,  3.28590006e-01, -3.95000011e-01,\n",
       "        2.32480004e-01,  3.12029999e-02, -5.22989988e-01,  1.56639993e-01,\n",
       "        2.96279997e-01,  6.03370011e-01,  6.94700032e-02, -1.03490002e-01,\n",
       "        1.05599999e-01, -6.74280003e-02,  1.41299993e-01,  1.37300000e-01,\n",
       "        2.19219998e-01, -2.51700014e-01, -6.28729984e-02,  1.73010007e-01,\n",
       "       -1.54369995e-01, -9.31779966e-02,  1.15170002e-01,  6.88270032e-02,\n",
       "       -2.44409993e-01,  3.36400010e-02, -2.81940013e-01, -2.37320006e-01,\n",
       "       -3.69610012e-01, -1.89300001e-01,  3.86579990e-01, -3.59379984e-02,\n",
       "       -1.95559993e-01,  2.28200004e-01,  4.51889992e-01, -4.31410015e-01,\n",
       "       -3.05299997e-01,  2.50919998e-01,  2.79540002e-01,  3.61310005e-01,\n",
       "       -3.34789991e-01,  1.95500001e-01, -2.94490010e-01,  3.67339998e-01,\n",
       "        1.67830005e-01, -3.67190003e-01,  1.48379996e-01, -1.55200005e-01,\n",
       "       -3.00669998e-01, -4.02269989e-01, -2.75880005e-02,  5.74280024e-01,\n",
       "        5.67470014e-01, -8.95219967e-02, -1.69279993e-01, -6.95109963e-02,\n",
       "        2.40370005e-01,  3.76010001e-01,  2.43239999e-01, -2.02859998e-01,\n",
       "       -3.04740012e-01,  6.43230006e-02,  2.46319994e-02, -3.57329994e-01,\n",
       "        8.89519975e-02, -2.15000004e-01,  3.77790004e-01,  2.96299994e-01,\n",
       "        6.07479997e-02, -8.04050028e-01,  5.03650010e-01, -2.26650000e-01,\n",
       "        2.05939993e-01, -8.96859989e-02,  1.86490007e-02,  5.77449977e-01,\n",
       "        2.56559998e-01, -6.38210028e-02, -1.79869995e-01,  1.46469995e-01,\n",
       "        4.18739989e-02,  5.62619984e-01, -2.11050004e-01, -2.78389990e-01,\n",
       "        2.55870014e-01, -3.60220000e-02,  8.65340009e-02,  2.11260006e-01,\n",
       "       -3.55450004e-01,  2.71660000e-01,  2.10620001e-01, -5.94330013e-01,\n",
       "       -5.21809995e-01, -1.26790002e-01,  3.29560012e-01,  1.50969997e-01,\n",
       "        4.81040001e-01, -3.68759990e-01, -5.55149972e-01,  1.49920002e-01,\n",
       "        4.09380021e-03,  4.14900005e-01, -4.95029986e-01, -2.81439990e-01,\n",
       "       -2.80900002e-01, -3.49669993e-01, -7.04779997e-02,  7.40999997e-01,\n",
       "       -1.19790003e-01, -4.41799998e-01,  2.25370005e-01, -5.21170020e-01,\n",
       "       -6.41020015e-02,  3.17149997e-01, -2.50019997e-01,  2.61049986e-01,\n",
       "       -3.70189995e-02,  3.63449991e-01,  3.19249988e-01, -8.30880031e-02,\n",
       "       -4.87930000e-01, -3.59569997e-01, -1.71200007e-01, -1.90280005e-01,\n",
       "       -4.74970013e-01,  2.22780004e-01,  4.49800014e-01,  9.31510003e-04,\n",
       "       -3.12689990e-01,  2.99549997e-01,  1.81089997e-01,  1.03910005e+00,\n",
       "        3.33739996e-01, -2.81010002e-01,  2.92530004e-03, -1.50040001e-01,\n",
       "        1.17279999e-01,  3.90069991e-01,  3.73409986e-01,  5.25370002e-01,\n",
       "        3.54689993e-02, -5.73589988e-02, -1.20310001e-01, -1.87250003e-02,\n",
       "        4.29549992e-01,  1.80370003e-01,  2.72940010e-01,  1.62230000e-01,\n",
       "        2.36019999e-01,  3.18650007e-01,  1.70289993e-01, -1.13459997e-01,\n",
       "        2.68900007e-01,  1.42810002e-01,  4.90979999e-01,  7.46110007e-02,\n",
       "        5.56789994e-01, -3.53309996e-02,  9.09730017e-01,  1.17729999e-01,\n",
       "       -5.50040007e-02, -7.16549993e-01, -4.79039997e-01, -3.22530009e-02,\n",
       "       -2.09000006e-01,  6.04850017e-02, -1.85450003e-01,  1.78780004e-01,\n",
       "       -2.08140001e-01,  4.49360013e-01, -3.72929990e-01,  5.75530007e-02,\n",
       "       -1.79440007e-01, -7.86970034e-02, -1.96789995e-01,  6.60749972e-01,\n",
       "        2.33370006e-01, -5.00289977e-01, -3.49880010e-01,  4.51480001e-01,\n",
       "       -5.62280007e-02, -2.22489998e-01, -5.29110014e-01,  5.48309982e-02,\n",
       "       -1.11290000e-01,  3.98499995e-01, -3.41190010e-01,  6.59879968e-02,\n",
       "        2.20109999e-01, -6.07639998e-02, -1.25960007e-01, -2.33999997e-01,\n",
       "        5.32069981e-01,  1.26809999e-02,  1.09159994e+00, -1.07050002e-01,\n",
       "       -1.05820000e-01, -3.80120017e-02, -2.96270013e-01, -1.71289995e-01,\n",
       "       -3.01840007e-02, -6.19409978e-01, -4.63239998e-01,  3.09360009e-02,\n",
       "        6.02159977e-01,  3.00139993e-01, -1.83540002e-01,  5.12769997e-01,\n",
       "       -5.55459976e-01,  3.46040010e-01, -4.91329998e-01, -9.41649973e-01,\n",
       "        4.08230007e-01,  3.34659994e-01, -9.80800018e-02,  2.39460006e-01,\n",
       "       -5.33069996e-03,  5.42600006e-02,  3.48060012e-01,  2.71949992e-02,\n",
       "        3.35240006e-01, -2.16869995e-01,  6.41520023e-01,  1.36710003e-01,\n",
       "       -1.29309997e-01,  4.39870000e-01, -1.10519998e-01, -1.53109999e-02,\n",
       "       -7.01839983e-01,  6.72959983e-02,  5.38879991e-01, -1.17339998e-01,\n",
       "        2.17140004e-01,  2.88219988e-01,  8.63740034e-03,  1.40230000e-01,\n",
       "       -2.84030009e-02,  2.93969989e-01,  6.42199993e-01,  3.38370018e-02,\n",
       "        2.96759993e-01, -2.88249999e-01, -1.17420003e-01,  1.14890002e-01,\n",
       "        3.79689991e-01, -2.84790009e-01,  4.63230014e-01, -9.39050019e-01,\n",
       "        3.20169985e-01,  3.63180012e-01,  7.79009983e-02, -1.03840001e-01])"
      ]
     },
     "execution_count": 22,
     "metadata": {},
     "output_type": "execute_result"
    },
    {
     "name": "stdout",
     "output_type": "stream",
     "text": [
      "time: 146 ms\n"
     ]
    }
   ],
   "source": [
    "embedding_matrix[208] ## word embedded vector representation for token 'loan'"
   ]
  },
  {
   "cell_type": "code",
   "execution_count": 30,
   "metadata": {},
   "outputs": [
    {
     "name": "stdout",
     "output_type": "stream",
     "text": [
      "time: 1.39 ms\n"
     ]
    }
   ],
   "source": [
    "def find_closest_embeddings(embedding):\n",
    "    return sorted(embeddings_index.keys(), key=lambda word: spatial.distance.euclidean(embeddings_index[word], embedding))"
   ]
  },
  {
   "cell_type": "code",
   "execution_count": 34,
   "metadata": {},
   "outputs": [
    {
     "name": "stdout",
     "output_type": "stream",
     "text": [
      "time: 541 µs\n"
     ]
    }
   ],
   "source": [
    "#find_closest_embeddings('loans')"
   ]
  },
  {
   "cell_type": "code",
   "execution_count": 32,
   "metadata": {},
   "outputs": [
    {
     "name": "stdout",
     "output_type": "stream",
     "text": [
      "Train on 50104 samples, validate on 16702 samples\n",
      "Epoch 1/5\n",
      "50104/50104 [==============================] - 1084s 22ms/step - loss: 1.0813 - acc: 0.6595 - val_loss: 0.7105 - val_acc: 0.7879\n",
      "Epoch 2/5\n",
      "50104/50104 [==============================] - 1070s 21ms/step - loss: 0.6819 - acc: 0.7974 - val_loss: 0.5648 - val_acc: 0.8303\n",
      "Epoch 3/5\n",
      "50104/50104 [==============================] - 10856s 217ms/step - loss: 0.5843 - acc: 0.8253 - val_loss: 0.5838 - val_acc: 0.8367\n",
      "Epoch 4/5\n",
      "50104/50104 [==============================] - 1104s 22ms/step - loss: 0.5368 - acc: 0.8411 - val_loss: 0.5328 - val_acc: 0.8461\n",
      "Epoch 5/5\n",
      "50104/50104 [==============================] - 1085s 22ms/step - loss: 0.5031 - acc: 0.8499 - val_loss: 0.5602 - val_acc: 0.8510\n",
      "time: 4h 13min 23s\n"
     ]
    }
   ],
   "source": [
    "model = Sequential()\n",
    "model.add(Embedding(len(tokenizer.word_index) + 1,\n",
    "                            EMBEDDING_DIM,\n",
    "                            weights=[embedding_matrix],\n",
    "                            input_length=MAX_SEQUENCE_LENGTH,\n",
    "                            trainable=True))\n",
    "model.add(Dropout(0.3))\n",
    "model.add(Conv1D(128, 5, activation=\"relu\"))\n",
    "model.add(MaxPooling1D(5))\n",
    "model.add(Dropout(0.3))\n",
    "model.add(BatchNormalization())\n",
    "model.add(Conv1D(128, 5, activation=\"relu\"))\n",
    "model.add(MaxPooling1D(5))\n",
    "model.add(Dropout(0.3))\n",
    "model.add(BatchNormalization())\n",
    "model.add(Flatten())\n",
    "model.add(Dense(128, activation=\"relu\"))\n",
    "model.add(Dense(11, activation=\"softmax\"))\n",
    "model.compile(loss='categorical_crossentropy',\n",
    " optimizer=\"rmsprop\",\n",
    " metrics=['acc'])\n",
    "history = model.fit(train_data, labels_train,\n",
    " batch_size=64,\n",
    " epochs=5,\n",
    " validation_data=(test_data, labels_test))"
   ]
  },
  {
   "cell_type": "code",
   "execution_count": 36,
   "metadata": {},
   "outputs": [
    {
     "name": "stdout",
     "output_type": "stream",
     "text": [
      "time: 541 ms\n"
     ]
    }
   ],
   "source": [
    "model.save('/home/richachoudhary/my_project_dir/Notebooks/consumer_complaints/consumer-complaints-classification/ccc_saved_model')"
   ]
  },
  {
   "cell_type": "code",
   "execution_count": 39,
   "metadata": {},
   "outputs": [
    {
     "name": "stdout",
     "output_type": "stream",
     "text": [
      "time: 2.53 s\n"
     ]
    }
   ],
   "source": [
    "model_loaded = keras.models.load_model('/home/richachoudhary/my_project_dir/Notebooks/consumer_complaints/consumer-complaints-classification/ccc_saved_model')"
   ]
  },
  {
   "cell_type": "code",
   "execution_count": 41,
   "metadata": {},
   "outputs": [
    {
     "data": {
      "image/png": "[encoded data removed]",
      "text/plain": [
       "<Figure size 432x288 with 1 Axes>"
      ]
     },
     "metadata": {
      "needs_background": "light"
     },
     "output_type": "display_data"
    },
    {
     "name": "stdout",
     "output_type": "stream",
     "text": [
      "time: 612 ms\n"
     ]
    }
   ],
   "source": [
    "fig1 = plt.figure()\n",
    "plt.plot(history.history['loss'],'r',linewidth=3.0)\n",
    "plt.plot(history.history['val_loss'],'b',linewidth=3.0)\n",
    "plt.legend(['Training loss', 'Validation Loss'],fontsize=18)\n",
    "plt.xlabel('Epochs ',fontsize=16)\n",
    "plt.ylabel('Loss',fontsize=16)\n",
    "plt.title('Loss Curves :CNN',fontsize=16)\n",
    "plt.show()"
   ]
  },
  {
   "cell_type": "code",
   "execution_count": null,
   "metadata": {},
   "outputs": [],
   "source": []
  }
 ],
 "metadata": {
  "kernelspec": {
   "display_name": "Python 3",
   "language": "python",
   "name": "python3"
  },
  "language_info": {
   "codemirror_mode": {
    "name": "ipython",
    "version": 3
   },
   "file_extension": ".py",
   "mimetype": "text/x-python",
   "name": "python",
   "nbconvert_exporter": "python",
   "pygments_lexer": "ipython3",
   "version": "3.6.9"
  }
 },
 "nbformat": 4,
 "nbformat_minor": 2
}
