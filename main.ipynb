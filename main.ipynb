{
 "cells": [
  {
   "cell_type": "code",
   "execution_count": 14,
   "metadata": {},
   "outputs": [
    {
     "name": "stdout",
     "output_type": "stream",
     "text": [
      "The autotime extension is already loaded. To reload it, use:\n",
      "  %reload_ext autotime\n",
      "time: 6.26 ms\n"
     ]
    }
   ],
   "source": [
    "import pandas as pd \n",
    "import warnings\n",
    "warnings.filterwarnings(\"ignore\")\n",
    "%load_ext autotime\n",
    "\n",
    "import numpy as np\n",
    "from sklearn.feature_extraction.text import TfidfVectorizer\n",
    "import sklearn.feature_extraction.text as text\n",
    "from sklearn import model_selection, preprocessing, linear_model, naive_bayes, metrics, svm\n",
    "from sklearn.naive_bayes import MultinomialNB\n",
    "from sklearn.linear_model import LogisticRegression\n",
    "from sklearn.ensemble import RandomForestClassifier\n",
    "from sklearn.svm import LinearSVC\n",
    "from sklearn.model_selection import cross_val_score\n",
    "from sklearn.model_selection import train_test_split\n",
    "\n",
    "import seaborn as sns\n",
    "import matplotlib.pyplot as plt\n",
    "import re\n",
    "\n",
    "import nltk "
   ]
  },
  {
   "cell_type": "code",
   "execution_count": 2,
   "metadata": {},
   "outputs": [
    {
     "data": {
      "text/html": [
       "<div>\n",
       "<style scoped>\n",
       "    .dataframe tbody tr th:only-of-type {\n",
       "        vertical-align: middle;\n",
       "    }\n",
       "\n",
       "    .dataframe tbody tr th {\n",
       "        vertical-align: top;\n",
       "    }\n",
       "\n",
       "    .dataframe thead th {\n",
       "        text-align: right;\n",
       "    }\n",
       "</style>\n",
       "<table border=\"1\" class=\"dataframe\">\n",
       "  <thead>\n",
       "    <tr style=\"text-align: right;\">\n",
       "      <th></th>\n",
       "      <th>date_received</th>\n",
       "      <th>product</th>\n",
       "      <th>sub_product</th>\n",
       "      <th>issue</th>\n",
       "      <th>sub_issue</th>\n",
       "      <th>consumer_complaint_narrative</th>\n",
       "      <th>company_public_response</th>\n",
       "      <th>company</th>\n",
       "      <th>state</th>\n",
       "      <th>zipcode</th>\n",
       "      <th>tags</th>\n",
       "      <th>consumer_consent_provided</th>\n",
       "      <th>submitted_via</th>\n",
       "      <th>date_sent_to_company</th>\n",
       "      <th>company_response_to_consumer</th>\n",
       "      <th>timely_response</th>\n",
       "      <th>consumer_disputed?</th>\n",
       "      <th>complaint_id</th>\n",
       "    </tr>\n",
       "  </thead>\n",
       "  <tbody>\n",
       "    <tr>\n",
       "      <th>0</th>\n",
       "      <td>08/30/2013</td>\n",
       "      <td>Mortgage</td>\n",
       "      <td>Other mortgage</td>\n",
       "      <td>Loan modification,collection,foreclosure</td>\n",
       "      <td>NaN</td>\n",
       "      <td>NaN</td>\n",
       "      <td>NaN</td>\n",
       "      <td>U.S. Bancorp</td>\n",
       "      <td>CA</td>\n",
       "      <td>95993</td>\n",
       "      <td>NaN</td>\n",
       "      <td>NaN</td>\n",
       "      <td>Referral</td>\n",
       "      <td>09/03/2013</td>\n",
       "      <td>Closed with explanation</td>\n",
       "      <td>Yes</td>\n",
       "      <td>Yes</td>\n",
       "      <td>511074</td>\n",
       "    </tr>\n",
       "    <tr>\n",
       "      <th>1</th>\n",
       "      <td>08/30/2013</td>\n",
       "      <td>Mortgage</td>\n",
       "      <td>Other mortgage</td>\n",
       "      <td>Loan servicing, payments, escrow account</td>\n",
       "      <td>NaN</td>\n",
       "      <td>NaN</td>\n",
       "      <td>NaN</td>\n",
       "      <td>Wells Fargo &amp; Company</td>\n",
       "      <td>CA</td>\n",
       "      <td>91104</td>\n",
       "      <td>NaN</td>\n",
       "      <td>NaN</td>\n",
       "      <td>Referral</td>\n",
       "      <td>09/03/2013</td>\n",
       "      <td>Closed with explanation</td>\n",
       "      <td>Yes</td>\n",
       "      <td>Yes</td>\n",
       "      <td>511080</td>\n",
       "    </tr>\n",
       "    <tr>\n",
       "      <th>2</th>\n",
       "      <td>08/30/2013</td>\n",
       "      <td>Credit reporting</td>\n",
       "      <td>NaN</td>\n",
       "      <td>Incorrect information on credit report</td>\n",
       "      <td>Account status</td>\n",
       "      <td>NaN</td>\n",
       "      <td>NaN</td>\n",
       "      <td>Wells Fargo &amp; Company</td>\n",
       "      <td>NY</td>\n",
       "      <td>11764</td>\n",
       "      <td>NaN</td>\n",
       "      <td>NaN</td>\n",
       "      <td>Postal mail</td>\n",
       "      <td>09/18/2013</td>\n",
       "      <td>Closed with explanation</td>\n",
       "      <td>Yes</td>\n",
       "      <td>No</td>\n",
       "      <td>510473</td>\n",
       "    </tr>\n",
       "    <tr>\n",
       "      <th>3</th>\n",
       "      <td>08/30/2013</td>\n",
       "      <td>Student loan</td>\n",
       "      <td>Non-federal student loan</td>\n",
       "      <td>Repaying your loan</td>\n",
       "      <td>Repaying your loan</td>\n",
       "      <td>NaN</td>\n",
       "      <td>NaN</td>\n",
       "      <td>Navient Solutions, Inc.</td>\n",
       "      <td>MD</td>\n",
       "      <td>21402</td>\n",
       "      <td>NaN</td>\n",
       "      <td>NaN</td>\n",
       "      <td>Email</td>\n",
       "      <td>08/30/2013</td>\n",
       "      <td>Closed with explanation</td>\n",
       "      <td>Yes</td>\n",
       "      <td>Yes</td>\n",
       "      <td>510326</td>\n",
       "    </tr>\n",
       "    <tr>\n",
       "      <th>4</th>\n",
       "      <td>08/30/2013</td>\n",
       "      <td>Debt collection</td>\n",
       "      <td>Credit card</td>\n",
       "      <td>False statements or representation</td>\n",
       "      <td>Attempted to collect wrong amount</td>\n",
       "      <td>NaN</td>\n",
       "      <td>NaN</td>\n",
       "      <td>Resurgent Capital Services L.P.</td>\n",
       "      <td>GA</td>\n",
       "      <td>30106</td>\n",
       "      <td>NaN</td>\n",
       "      <td>NaN</td>\n",
       "      <td>Web</td>\n",
       "      <td>08/30/2013</td>\n",
       "      <td>Closed with explanation</td>\n",
       "      <td>Yes</td>\n",
       "      <td>Yes</td>\n",
       "      <td>511067</td>\n",
       "    </tr>\n",
       "  </tbody>\n",
       "</table>\n",
       "</div>"
      ],
      "text/plain": [
       "  date_received           product               sub_product  \\\n",
       "0    08/30/2013          Mortgage            Other mortgage   \n",
       "1    08/30/2013          Mortgage            Other mortgage   \n",
       "2    08/30/2013  Credit reporting                       NaN   \n",
       "3    08/30/2013      Student loan  Non-federal student loan   \n",
       "4    08/30/2013   Debt collection               Credit card   \n",
       "\n",
       "                                      issue  \\\n",
       "0  Loan modification,collection,foreclosure   \n",
       "1  Loan servicing, payments, escrow account   \n",
       "2    Incorrect information on credit report   \n",
       "3                        Repaying your loan   \n",
       "4        False statements or representation   \n",
       "\n",
       "                           sub_issue consumer_complaint_narrative  \\\n",
       "0                                NaN                          NaN   \n",
       "1                                NaN                          NaN   \n",
       "2                     Account status                          NaN   \n",
       "3                 Repaying your loan                          NaN   \n",
       "4  Attempted to collect wrong amount                          NaN   \n",
       "\n",
       "  company_public_response                          company state zipcode tags  \\\n",
       "0                     NaN                     U.S. Bancorp    CA   95993  NaN   \n",
       "1                     NaN            Wells Fargo & Company    CA   91104  NaN   \n",
       "2                     NaN            Wells Fargo & Company    NY   11764  NaN   \n",
       "3                     NaN          Navient Solutions, Inc.    MD   21402  NaN   \n",
       "4                     NaN  Resurgent Capital Services L.P.    GA   30106  NaN   \n",
       "\n",
       "  consumer_consent_provided submitted_via date_sent_to_company  \\\n",
       "0                       NaN      Referral           09/03/2013   \n",
       "1                       NaN      Referral           09/03/2013   \n",
       "2                       NaN   Postal mail           09/18/2013   \n",
       "3                       NaN         Email           08/30/2013   \n",
       "4                       NaN           Web           08/30/2013   \n",
       "\n",
       "  company_response_to_consumer timely_response consumer_disputed?  \\\n",
       "0      Closed with explanation             Yes                Yes   \n",
       "1      Closed with explanation             Yes                Yes   \n",
       "2      Closed with explanation             Yes                 No   \n",
       "3      Closed with explanation             Yes                Yes   \n",
       "4      Closed with explanation             Yes                Yes   \n",
       "\n",
       "   complaint_id  \n",
       "0        511074  \n",
       "1        511080  \n",
       "2        510473  \n",
       "3        510326  \n",
       "4        511067  "
      ]
     },
     "execution_count": 2,
     "metadata": {},
     "output_type": "execute_result"
    },
    {
     "name": "stdout",
     "output_type": "stream",
     "text": [
      "time: 3.99 s\n"
     ]
    }
   ],
   "source": [
    "df= pd.read_csv(\"consumer_complaints.csv\")\n",
    "df.head()"
   ]
  },
  {
   "cell_type": "code",
   "execution_count": 3,
   "metadata": {},
   "outputs": [
    {
     "data": {
      "text/plain": [
       "(555957, 18)"
      ]
     },
     "execution_count": 3,
     "metadata": {},
     "output_type": "execute_result"
    },
    {
     "name": "stdout",
     "output_type": "stream",
     "text": [
      "time: 2.96 ms\n"
     ]
    }
   ],
   "source": [
    "df.shape"
   ]
  },
  {
   "cell_type": "code",
   "execution_count": 4,
   "metadata": {},
   "outputs": [
    {
     "data": {
      "text/plain": [
       "date_received                   object\n",
       "product                         object\n",
       "sub_product                     object\n",
       "issue                           object\n",
       "sub_issue                       object\n",
       "consumer_complaint_narrative    object\n",
       "company_public_response         object\n",
       "company                         object\n",
       "state                           object\n",
       "zipcode                         object\n",
       "tags                            object\n",
       "consumer_consent_provided       object\n",
       "submitted_via                   object\n",
       "date_sent_to_company            object\n",
       "company_response_to_consumer    object\n",
       "timely_response                 object\n",
       "consumer_disputed?              object\n",
       "complaint_id                     int64\n",
       "dtype: object"
      ]
     },
     "execution_count": 4,
     "metadata": {},
     "output_type": "execute_result"
    },
    {
     "name": "stdout",
     "output_type": "stream",
     "text": [
      "time: 80.8 ms\n"
     ]
    }
   ],
   "source": [
    "df.dtypes"
   ]
  },
  {
   "cell_type": "code",
   "execution_count": 5,
   "metadata": {},
   "outputs": [
    {
     "data": {
      "text/html": [
       "<div>\n",
       "<style scoped>\n",
       "    .dataframe tbody tr th:only-of-type {\n",
       "        vertical-align: middle;\n",
       "    }\n",
       "\n",
       "    .dataframe tbody tr th {\n",
       "        vertical-align: top;\n",
       "    }\n",
       "\n",
       "    .dataframe thead th {\n",
       "        text-align: right;\n",
       "    }\n",
       "</style>\n",
       "<table border=\"1\" class=\"dataframe\">\n",
       "  <thead>\n",
       "    <tr style=\"text-align: right;\">\n",
       "      <th></th>\n",
       "      <th>date_received</th>\n",
       "      <th>product</th>\n",
       "      <th>sub_product</th>\n",
       "      <th>issue</th>\n",
       "      <th>sub_issue</th>\n",
       "      <th>consumer_complaint_narrative</th>\n",
       "      <th>company_public_response</th>\n",
       "      <th>company</th>\n",
       "      <th>state</th>\n",
       "      <th>zipcode</th>\n",
       "      <th>tags</th>\n",
       "      <th>consumer_consent_provided</th>\n",
       "      <th>submitted_via</th>\n",
       "      <th>date_sent_to_company</th>\n",
       "      <th>company_response_to_consumer</th>\n",
       "      <th>timely_response</th>\n",
       "      <th>consumer_disputed?</th>\n",
       "      <th>complaint_id</th>\n",
       "    </tr>\n",
       "  </thead>\n",
       "  <tbody>\n",
       "    <tr>\n",
       "      <th>count</th>\n",
       "      <td>555957</td>\n",
       "      <td>555957</td>\n",
       "      <td>397635</td>\n",
       "      <td>555957</td>\n",
       "      <td>212622</td>\n",
       "      <td>66806</td>\n",
       "      <td>85124</td>\n",
       "      <td>555957</td>\n",
       "      <td>551070</td>\n",
       "      <td>551452</td>\n",
       "      <td>77959</td>\n",
       "      <td>123458</td>\n",
       "      <td>555957</td>\n",
       "      <td>555957</td>\n",
       "      <td>555957</td>\n",
       "      <td>555957</td>\n",
       "      <td>555957</td>\n",
       "      <td>5.559570e+05</td>\n",
       "    </tr>\n",
       "    <tr>\n",
       "      <th>unique</th>\n",
       "      <td>1608</td>\n",
       "      <td>11</td>\n",
       "      <td>46</td>\n",
       "      <td>95</td>\n",
       "      <td>68</td>\n",
       "      <td>65646</td>\n",
       "      <td>10</td>\n",
       "      <td>3605</td>\n",
       "      <td>62</td>\n",
       "      <td>27052</td>\n",
       "      <td>3</td>\n",
       "      <td>4</td>\n",
       "      <td>6</td>\n",
       "      <td>1557</td>\n",
       "      <td>8</td>\n",
       "      <td>2</td>\n",
       "      <td>2</td>\n",
       "      <td>NaN</td>\n",
       "    </tr>\n",
       "    <tr>\n",
       "      <th>top</th>\n",
       "      <td>08/27/2015</td>\n",
       "      <td>Mortgage</td>\n",
       "      <td>Other mortgage</td>\n",
       "      <td>Loan modification,collection,foreclosure</td>\n",
       "      <td>Account status</td>\n",
       "      <td>This company continues to report on my credit ...</td>\n",
       "      <td>Company chooses not to provide a public response</td>\n",
       "      <td>Bank of America</td>\n",
       "      <td>CA</td>\n",
       "      <td>300XX</td>\n",
       "      <td>Older American</td>\n",
       "      <td>Consent provided</td>\n",
       "      <td>Web</td>\n",
       "      <td>11/13/2015</td>\n",
       "      <td>Closed with explanation</td>\n",
       "      <td>Yes</td>\n",
       "      <td>No</td>\n",
       "      <td>NaN</td>\n",
       "    </tr>\n",
       "    <tr>\n",
       "      <th>freq</th>\n",
       "      <td>963</td>\n",
       "      <td>186475</td>\n",
       "      <td>74319</td>\n",
       "      <td>97191</td>\n",
       "      <td>26798</td>\n",
       "      <td>37</td>\n",
       "      <td>52478</td>\n",
       "      <td>55998</td>\n",
       "      <td>81700</td>\n",
       "      <td>1205</td>\n",
       "      <td>45257</td>\n",
       "      <td>66807</td>\n",
       "      <td>361338</td>\n",
       "      <td>1108</td>\n",
       "      <td>404293</td>\n",
       "      <td>541909</td>\n",
       "      <td>443823</td>\n",
       "      <td>NaN</td>\n",
       "    </tr>\n",
       "    <tr>\n",
       "      <th>mean</th>\n",
       "      <td>NaN</td>\n",
       "      <td>NaN</td>\n",
       "      <td>NaN</td>\n",
       "      <td>NaN</td>\n",
       "      <td>NaN</td>\n",
       "      <td>NaN</td>\n",
       "      <td>NaN</td>\n",
       "      <td>NaN</td>\n",
       "      <td>NaN</td>\n",
       "      <td>NaN</td>\n",
       "      <td>NaN</td>\n",
       "      <td>NaN</td>\n",
       "      <td>NaN</td>\n",
       "      <td>NaN</td>\n",
       "      <td>NaN</td>\n",
       "      <td>NaN</td>\n",
       "      <td>NaN</td>\n",
       "      <td>9.600510e+05</td>\n",
       "    </tr>\n",
       "    <tr>\n",
       "      <th>std</th>\n",
       "      <td>NaN</td>\n",
       "      <td>NaN</td>\n",
       "      <td>NaN</td>\n",
       "      <td>NaN</td>\n",
       "      <td>NaN</td>\n",
       "      <td>NaN</td>\n",
       "      <td>NaN</td>\n",
       "      <td>NaN</td>\n",
       "      <td>NaN</td>\n",
       "      <td>NaN</td>\n",
       "      <td>NaN</td>\n",
       "      <td>NaN</td>\n",
       "      <td>NaN</td>\n",
       "      <td>NaN</td>\n",
       "      <td>NaN</td>\n",
       "      <td>NaN</td>\n",
       "      <td>NaN</td>\n",
       "      <td>5.504296e+05</td>\n",
       "    </tr>\n",
       "    <tr>\n",
       "      <th>min</th>\n",
       "      <td>NaN</td>\n",
       "      <td>NaN</td>\n",
       "      <td>NaN</td>\n",
       "      <td>NaN</td>\n",
       "      <td>NaN</td>\n",
       "      <td>NaN</td>\n",
       "      <td>NaN</td>\n",
       "      <td>NaN</td>\n",
       "      <td>NaN</td>\n",
       "      <td>NaN</td>\n",
       "      <td>NaN</td>\n",
       "      <td>NaN</td>\n",
       "      <td>NaN</td>\n",
       "      <td>NaN</td>\n",
       "      <td>NaN</td>\n",
       "      <td>NaN</td>\n",
       "      <td>NaN</td>\n",
       "      <td>1.000000e+00</td>\n",
       "    </tr>\n",
       "    <tr>\n",
       "      <th>25%</th>\n",
       "      <td>NaN</td>\n",
       "      <td>NaN</td>\n",
       "      <td>NaN</td>\n",
       "      <td>NaN</td>\n",
       "      <td>NaN</td>\n",
       "      <td>NaN</td>\n",
       "      <td>NaN</td>\n",
       "      <td>NaN</td>\n",
       "      <td>NaN</td>\n",
       "      <td>NaN</td>\n",
       "      <td>NaN</td>\n",
       "      <td>NaN</td>\n",
       "      <td>NaN</td>\n",
       "      <td>NaN</td>\n",
       "      <td>NaN</td>\n",
       "      <td>NaN</td>\n",
       "      <td>NaN</td>\n",
       "      <td>4.863230e+05</td>\n",
       "    </tr>\n",
       "    <tr>\n",
       "      <th>50%</th>\n",
       "      <td>NaN</td>\n",
       "      <td>NaN</td>\n",
       "      <td>NaN</td>\n",
       "      <td>NaN</td>\n",
       "      <td>NaN</td>\n",
       "      <td>NaN</td>\n",
       "      <td>NaN</td>\n",
       "      <td>NaN</td>\n",
       "      <td>NaN</td>\n",
       "      <td>NaN</td>\n",
       "      <td>NaN</td>\n",
       "      <td>NaN</td>\n",
       "      <td>NaN</td>\n",
       "      <td>NaN</td>\n",
       "      <td>NaN</td>\n",
       "      <td>NaN</td>\n",
       "      <td>NaN</td>\n",
       "      <td>9.737830e+05</td>\n",
       "    </tr>\n",
       "    <tr>\n",
       "      <th>75%</th>\n",
       "      <td>NaN</td>\n",
       "      <td>NaN</td>\n",
       "      <td>NaN</td>\n",
       "      <td>NaN</td>\n",
       "      <td>NaN</td>\n",
       "      <td>NaN</td>\n",
       "      <td>NaN</td>\n",
       "      <td>NaN</td>\n",
       "      <td>NaN</td>\n",
       "      <td>NaN</td>\n",
       "      <td>NaN</td>\n",
       "      <td>NaN</td>\n",
       "      <td>NaN</td>\n",
       "      <td>NaN</td>\n",
       "      <td>NaN</td>\n",
       "      <td>NaN</td>\n",
       "      <td>NaN</td>\n",
       "      <td>1.441702e+06</td>\n",
       "    </tr>\n",
       "    <tr>\n",
       "      <th>max</th>\n",
       "      <td>NaN</td>\n",
       "      <td>NaN</td>\n",
       "      <td>NaN</td>\n",
       "      <td>NaN</td>\n",
       "      <td>NaN</td>\n",
       "      <td>NaN</td>\n",
       "      <td>NaN</td>\n",
       "      <td>NaN</td>\n",
       "      <td>NaN</td>\n",
       "      <td>NaN</td>\n",
       "      <td>NaN</td>\n",
       "      <td>NaN</td>\n",
       "      <td>NaN</td>\n",
       "      <td>NaN</td>\n",
       "      <td>NaN</td>\n",
       "      <td>NaN</td>\n",
       "      <td>NaN</td>\n",
       "      <td>1.895894e+06</td>\n",
       "    </tr>\n",
       "  </tbody>\n",
       "</table>\n",
       "</div>"
      ],
      "text/plain": [
       "       date_received   product     sub_product  \\\n",
       "count         555957    555957          397635   \n",
       "unique          1608        11              46   \n",
       "top       08/27/2015  Mortgage  Other mortgage   \n",
       "freq             963    186475           74319   \n",
       "mean             NaN       NaN             NaN   \n",
       "std              NaN       NaN             NaN   \n",
       "min              NaN       NaN             NaN   \n",
       "25%              NaN       NaN             NaN   \n",
       "50%              NaN       NaN             NaN   \n",
       "75%              NaN       NaN             NaN   \n",
       "max              NaN       NaN             NaN   \n",
       "\n",
       "                                           issue       sub_issue  \\\n",
       "count                                     555957          212622   \n",
       "unique                                        95              68   \n",
       "top     Loan modification,collection,foreclosure  Account status   \n",
       "freq                                       97191           26798   \n",
       "mean                                         NaN             NaN   \n",
       "std                                          NaN             NaN   \n",
       "min                                          NaN             NaN   \n",
       "25%                                          NaN             NaN   \n",
       "50%                                          NaN             NaN   \n",
       "75%                                          NaN             NaN   \n",
       "max                                          NaN             NaN   \n",
       "\n",
       "                             consumer_complaint_narrative  \\\n",
       "count                                               66806   \n",
       "unique                                              65646   \n",
       "top     This company continues to report on my credit ...   \n",
       "freq                                                   37   \n",
       "mean                                                  NaN   \n",
       "std                                                   NaN   \n",
       "min                                                   NaN   \n",
       "25%                                                   NaN   \n",
       "50%                                                   NaN   \n",
       "75%                                                   NaN   \n",
       "max                                                   NaN   \n",
       "\n",
       "                                 company_public_response          company  \\\n",
       "count                                              85124           555957   \n",
       "unique                                                10             3605   \n",
       "top     Company chooses not to provide a public response  Bank of America   \n",
       "freq                                               52478            55998   \n",
       "mean                                                 NaN              NaN   \n",
       "std                                                  NaN              NaN   \n",
       "min                                                  NaN              NaN   \n",
       "25%                                                  NaN              NaN   \n",
       "50%                                                  NaN              NaN   \n",
       "75%                                                  NaN              NaN   \n",
       "max                                                  NaN              NaN   \n",
       "\n",
       "         state zipcode            tags consumer_consent_provided  \\\n",
       "count   551070  551452           77959                    123458   \n",
       "unique      62   27052               3                         4   \n",
       "top         CA   300XX  Older American          Consent provided   \n",
       "freq     81700    1205           45257                     66807   \n",
       "mean       NaN     NaN             NaN                       NaN   \n",
       "std        NaN     NaN             NaN                       NaN   \n",
       "min        NaN     NaN             NaN                       NaN   \n",
       "25%        NaN     NaN             NaN                       NaN   \n",
       "50%        NaN     NaN             NaN                       NaN   \n",
       "75%        NaN     NaN             NaN                       NaN   \n",
       "max        NaN     NaN             NaN                       NaN   \n",
       "\n",
       "       submitted_via date_sent_to_company company_response_to_consumer  \\\n",
       "count         555957               555957                       555957   \n",
       "unique             6                 1557                            8   \n",
       "top              Web           11/13/2015      Closed with explanation   \n",
       "freq          361338                 1108                       404293   \n",
       "mean             NaN                  NaN                          NaN   \n",
       "std              NaN                  NaN                          NaN   \n",
       "min              NaN                  NaN                          NaN   \n",
       "25%              NaN                  NaN                          NaN   \n",
       "50%              NaN                  NaN                          NaN   \n",
       "75%              NaN                  NaN                          NaN   \n",
       "max              NaN                  NaN                          NaN   \n",
       "\n",
       "       timely_response consumer_disputed?  complaint_id  \n",
       "count           555957             555957  5.559570e+05  \n",
       "unique               2                  2           NaN  \n",
       "top                Yes                 No           NaN  \n",
       "freq            541909             443823           NaN  \n",
       "mean               NaN                NaN  9.600510e+05  \n",
       "std                NaN                NaN  5.504296e+05  \n",
       "min                NaN                NaN  1.000000e+00  \n",
       "25%                NaN                NaN  4.863230e+05  \n",
       "50%                NaN                NaN  9.737830e+05  \n",
       "75%                NaN                NaN  1.441702e+06  \n",
       "max                NaN                NaN  1.895894e+06  "
      ]
     },
     "execution_count": 5,
     "metadata": {},
     "output_type": "execute_result"
    },
    {
     "name": "stdout",
     "output_type": "stream",
     "text": [
      "time: 1.47 s\n"
     ]
    }
   ],
   "source": [
    "df.describe(include = 'all')"
   ]
  },
  {
   "cell_type": "code",
   "execution_count": 6,
   "metadata": {},
   "outputs": [
    {
     "data": {
      "text/plain": [
       "date_received                    0.000000\n",
       "product                          0.000000\n",
       "sub_product                     28.477382\n",
       "issue                            0.000000\n",
       "sub_issue                       61.755675\n",
       "consumer_complaint_narrative    87.983603\n",
       "company_public_response         84.688744\n",
       "company                          0.000000\n",
       "state                            0.879025\n",
       "zipcode                          0.810314\n",
       "tags                            85.977513\n",
       "consumer_consent_provided       77.793606\n",
       "submitted_via                    0.000000\n",
       "date_sent_to_company             0.000000\n",
       "company_response_to_consumer     0.000000\n",
       "timely_response                  0.000000\n",
       "consumer_disputed?               0.000000\n",
       "complaint_id                     0.000000\n",
       "dtype: float64"
      ]
     },
     "execution_count": 6,
     "metadata": {},
     "output_type": "execute_result"
    },
    {
     "name": "stdout",
     "output_type": "stream",
     "text": [
      "time: 451 ms\n"
     ]
    }
   ],
   "source": [
    "df.isnull().sum()/df.shape[0]*100"
   ]
  },
  {
   "cell_type": "code",
   "execution_count": 24,
   "metadata": {},
   "outputs": [
    {
     "name": "stdout",
     "output_type": "stream",
     "text": [
      "(66806, 18)\n"
     ]
    },
    {
     "data": {
      "text/html": [
       "<div>\n",
       "<style scoped>\n",
       "    .dataframe tbody tr th:only-of-type {\n",
       "        vertical-align: middle;\n",
       "    }\n",
       "\n",
       "    .dataframe tbody tr th {\n",
       "        vertical-align: top;\n",
       "    }\n",
       "\n",
       "    .dataframe thead th {\n",
       "        text-align: right;\n",
       "    }\n",
       "</style>\n",
       "<table border=\"1\" class=\"dataframe\">\n",
       "  <thead>\n",
       "    <tr style=\"text-align: right;\">\n",
       "      <th></th>\n",
       "      <th>date_received</th>\n",
       "      <th>product</th>\n",
       "      <th>sub_product</th>\n",
       "      <th>issue</th>\n",
       "      <th>sub_issue</th>\n",
       "      <th>consumer_complaint_narrative</th>\n",
       "      <th>company_public_response</th>\n",
       "      <th>company</th>\n",
       "      <th>state</th>\n",
       "      <th>zipcode</th>\n",
       "      <th>tags</th>\n",
       "      <th>consumer_consent_provided</th>\n",
       "      <th>submitted_via</th>\n",
       "      <th>date_sent_to_company</th>\n",
       "      <th>company_response_to_consumer</th>\n",
       "      <th>timely_response</th>\n",
       "      <th>consumer_disputed?</th>\n",
       "      <th>complaint_id</th>\n",
       "    </tr>\n",
       "  </thead>\n",
       "  <tbody>\n",
       "    <tr>\n",
       "      <th>count</th>\n",
       "      <td>66806</td>\n",
       "      <td>66806</td>\n",
       "      <td>46351</td>\n",
       "      <td>66806</td>\n",
       "      <td>32932</td>\n",
       "      <td>66806</td>\n",
       "      <td>32776</td>\n",
       "      <td>66806</td>\n",
       "      <td>66620</td>\n",
       "      <td>66617</td>\n",
       "      <td>11417</td>\n",
       "      <td>66806</td>\n",
       "      <td>66806</td>\n",
       "      <td>66806</td>\n",
       "      <td>66806</td>\n",
       "      <td>66806</td>\n",
       "      <td>66806</td>\n",
       "      <td>6.680600e+04</td>\n",
       "    </tr>\n",
       "    <tr>\n",
       "      <th>unique</th>\n",
       "      <td>399</td>\n",
       "      <td>11</td>\n",
       "      <td>45</td>\n",
       "      <td>90</td>\n",
       "      <td>64</td>\n",
       "      <td>65646</td>\n",
       "      <td>10</td>\n",
       "      <td>2296</td>\n",
       "      <td>60</td>\n",
       "      <td>911</td>\n",
       "      <td>3</td>\n",
       "      <td>1</td>\n",
       "      <td>1</td>\n",
       "      <td>400</td>\n",
       "      <td>5</td>\n",
       "      <td>2</td>\n",
       "      <td>2</td>\n",
       "      <td>NaN</td>\n",
       "    </tr>\n",
       "    <tr>\n",
       "      <th>top</th>\n",
       "      <td>08/18/2015</td>\n",
       "      <td>Debt collection</td>\n",
       "      <td>Conventional fixed mortgage</td>\n",
       "      <td>Incorrect information on credit report</td>\n",
       "      <td>Debt is not mine</td>\n",
       "      <td>This company continues to report on my credit ...</td>\n",
       "      <td>Company chooses not to provide a public response</td>\n",
       "      <td>Equifax</td>\n",
       "      <td>CA</td>\n",
       "      <td>300XX</td>\n",
       "      <td>Older American</td>\n",
       "      <td>Consent provided</td>\n",
       "      <td>Web</td>\n",
       "      <td>11/13/2015</td>\n",
       "      <td>Closed with explanation</td>\n",
       "      <td>Yes</td>\n",
       "      <td>No</td>\n",
       "      <td>NaN</td>\n",
       "    </tr>\n",
       "    <tr>\n",
       "      <th>freq</th>\n",
       "      <td>312</td>\n",
       "      <td>17552</td>\n",
       "      <td>6639</td>\n",
       "      <td>8352</td>\n",
       "      <td>4558</td>\n",
       "      <td>37</td>\n",
       "      <td>19309</td>\n",
       "      <td>4195</td>\n",
       "      <td>9983</td>\n",
       "      <td>1026</td>\n",
       "      <td>6083</td>\n",
       "      <td>66806</td>\n",
       "      <td>66806</td>\n",
       "      <td>472</td>\n",
       "      <td>50928</td>\n",
       "      <td>64638</td>\n",
       "      <td>51229</td>\n",
       "      <td>NaN</td>\n",
       "    </tr>\n",
       "    <tr>\n",
       "      <th>mean</th>\n",
       "      <td>NaN</td>\n",
       "      <td>NaN</td>\n",
       "      <td>NaN</td>\n",
       "      <td>NaN</td>\n",
       "      <td>NaN</td>\n",
       "      <td>NaN</td>\n",
       "      <td>NaN</td>\n",
       "      <td>NaN</td>\n",
       "      <td>NaN</td>\n",
       "      <td>NaN</td>\n",
       "      <td>NaN</td>\n",
       "      <td>NaN</td>\n",
       "      <td>NaN</td>\n",
       "      <td>NaN</td>\n",
       "      <td>NaN</td>\n",
       "      <td>NaN</td>\n",
       "      <td>NaN</td>\n",
       "      <td>1.571665e+06</td>\n",
       "    </tr>\n",
       "    <tr>\n",
       "      <th>std</th>\n",
       "      <td>NaN</td>\n",
       "      <td>NaN</td>\n",
       "      <td>NaN</td>\n",
       "      <td>NaN</td>\n",
       "      <td>NaN</td>\n",
       "      <td>NaN</td>\n",
       "      <td>NaN</td>\n",
       "      <td>NaN</td>\n",
       "      <td>NaN</td>\n",
       "      <td>NaN</td>\n",
       "      <td>NaN</td>\n",
       "      <td>NaN</td>\n",
       "      <td>NaN</td>\n",
       "      <td>NaN</td>\n",
       "      <td>NaN</td>\n",
       "      <td>NaN</td>\n",
       "      <td>NaN</td>\n",
       "      <td>1.545692e+05</td>\n",
       "    </tr>\n",
       "    <tr>\n",
       "      <th>min</th>\n",
       "      <td>NaN</td>\n",
       "      <td>NaN</td>\n",
       "      <td>NaN</td>\n",
       "      <td>NaN</td>\n",
       "      <td>NaN</td>\n",
       "      <td>NaN</td>\n",
       "      <td>NaN</td>\n",
       "      <td>NaN</td>\n",
       "      <td>NaN</td>\n",
       "      <td>NaN</td>\n",
       "      <td>NaN</td>\n",
       "      <td>NaN</td>\n",
       "      <td>NaN</td>\n",
       "      <td>NaN</td>\n",
       "      <td>NaN</td>\n",
       "      <td>NaN</td>\n",
       "      <td>NaN</td>\n",
       "      <td>1.290181e+06</td>\n",
       "    </tr>\n",
       "    <tr>\n",
       "      <th>25%</th>\n",
       "      <td>NaN</td>\n",
       "      <td>NaN</td>\n",
       "      <td>NaN</td>\n",
       "      <td>NaN</td>\n",
       "      <td>NaN</td>\n",
       "      <td>NaN</td>\n",
       "      <td>NaN</td>\n",
       "      <td>NaN</td>\n",
       "      <td>NaN</td>\n",
       "      <td>NaN</td>\n",
       "      <td>NaN</td>\n",
       "      <td>NaN</td>\n",
       "      <td>NaN</td>\n",
       "      <td>NaN</td>\n",
       "      <td>NaN</td>\n",
       "      <td>NaN</td>\n",
       "      <td>NaN</td>\n",
       "      <td>1.443264e+06</td>\n",
       "    </tr>\n",
       "    <tr>\n",
       "      <th>50%</th>\n",
       "      <td>NaN</td>\n",
       "      <td>NaN</td>\n",
       "      <td>NaN</td>\n",
       "      <td>NaN</td>\n",
       "      <td>NaN</td>\n",
       "      <td>NaN</td>\n",
       "      <td>NaN</td>\n",
       "      <td>NaN</td>\n",
       "      <td>NaN</td>\n",
       "      <td>NaN</td>\n",
       "      <td>NaN</td>\n",
       "      <td>NaN</td>\n",
       "      <td>NaN</td>\n",
       "      <td>NaN</td>\n",
       "      <td>NaN</td>\n",
       "      <td>NaN</td>\n",
       "      <td>NaN</td>\n",
       "      <td>1.569485e+06</td>\n",
       "    </tr>\n",
       "    <tr>\n",
       "      <th>75%</th>\n",
       "      <td>NaN</td>\n",
       "      <td>NaN</td>\n",
       "      <td>NaN</td>\n",
       "      <td>NaN</td>\n",
       "      <td>NaN</td>\n",
       "      <td>NaN</td>\n",
       "      <td>NaN</td>\n",
       "      <td>NaN</td>\n",
       "      <td>NaN</td>\n",
       "      <td>NaN</td>\n",
       "      <td>NaN</td>\n",
       "      <td>NaN</td>\n",
       "      <td>NaN</td>\n",
       "      <td>NaN</td>\n",
       "      <td>NaN</td>\n",
       "      <td>NaN</td>\n",
       "      <td>NaN</td>\n",
       "      <td>1.702750e+06</td>\n",
       "    </tr>\n",
       "    <tr>\n",
       "      <th>max</th>\n",
       "      <td>NaN</td>\n",
       "      <td>NaN</td>\n",
       "      <td>NaN</td>\n",
       "      <td>NaN</td>\n",
       "      <td>NaN</td>\n",
       "      <td>NaN</td>\n",
       "      <td>NaN</td>\n",
       "      <td>NaN</td>\n",
       "      <td>NaN</td>\n",
       "      <td>NaN</td>\n",
       "      <td>NaN</td>\n",
       "      <td>NaN</td>\n",
       "      <td>NaN</td>\n",
       "      <td>NaN</td>\n",
       "      <td>NaN</td>\n",
       "      <td>NaN</td>\n",
       "      <td>NaN</td>\n",
       "      <td>1.888608e+06</td>\n",
       "    </tr>\n",
       "  </tbody>\n",
       "</table>\n",
       "</div>"
      ],
      "text/plain": [
       "       date_received          product                  sub_product  \\\n",
       "count          66806            66806                        46351   \n",
       "unique           399               11                           45   \n",
       "top       08/18/2015  Debt collection  Conventional fixed mortgage   \n",
       "freq             312            17552                         6639   \n",
       "mean             NaN              NaN                          NaN   \n",
       "std              NaN              NaN                          NaN   \n",
       "min              NaN              NaN                          NaN   \n",
       "25%              NaN              NaN                          NaN   \n",
       "50%              NaN              NaN                          NaN   \n",
       "75%              NaN              NaN                          NaN   \n",
       "max              NaN              NaN                          NaN   \n",
       "\n",
       "                                         issue         sub_issue  \\\n",
       "count                                    66806             32932   \n",
       "unique                                      90                64   \n",
       "top     Incorrect information on credit report  Debt is not mine   \n",
       "freq                                      8352              4558   \n",
       "mean                                       NaN               NaN   \n",
       "std                                        NaN               NaN   \n",
       "min                                        NaN               NaN   \n",
       "25%                                        NaN               NaN   \n",
       "50%                                        NaN               NaN   \n",
       "75%                                        NaN               NaN   \n",
       "max                                        NaN               NaN   \n",
       "\n",
       "                             consumer_complaint_narrative  \\\n",
       "count                                               66806   \n",
       "unique                                              65646   \n",
       "top     This company continues to report on my credit ...   \n",
       "freq                                                   37   \n",
       "mean                                                  NaN   \n",
       "std                                                   NaN   \n",
       "min                                                   NaN   \n",
       "25%                                                   NaN   \n",
       "50%                                                   NaN   \n",
       "75%                                                   NaN   \n",
       "max                                                   NaN   \n",
       "\n",
       "                                 company_public_response  company  state  \\\n",
       "count                                              32776    66806  66620   \n",
       "unique                                                10     2296     60   \n",
       "top     Company chooses not to provide a public response  Equifax     CA   \n",
       "freq                                               19309     4195   9983   \n",
       "mean                                                 NaN      NaN    NaN   \n",
       "std                                                  NaN      NaN    NaN   \n",
       "min                                                  NaN      NaN    NaN   \n",
       "25%                                                  NaN      NaN    NaN   \n",
       "50%                                                  NaN      NaN    NaN   \n",
       "75%                                                  NaN      NaN    NaN   \n",
       "max                                                  NaN      NaN    NaN   \n",
       "\n",
       "       zipcode            tags consumer_consent_provided submitted_via  \\\n",
       "count    66617           11417                     66806         66806   \n",
       "unique     911               3                         1             1   \n",
       "top      300XX  Older American          Consent provided           Web   \n",
       "freq      1026            6083                     66806         66806   \n",
       "mean       NaN             NaN                       NaN           NaN   \n",
       "std        NaN             NaN                       NaN           NaN   \n",
       "min        NaN             NaN                       NaN           NaN   \n",
       "25%        NaN             NaN                       NaN           NaN   \n",
       "50%        NaN             NaN                       NaN           NaN   \n",
       "75%        NaN             NaN                       NaN           NaN   \n",
       "max        NaN             NaN                       NaN           NaN   \n",
       "\n",
       "       date_sent_to_company company_response_to_consumer timely_response  \\\n",
       "count                 66806                        66806           66806   \n",
       "unique                  400                            5               2   \n",
       "top              11/13/2015      Closed with explanation             Yes   \n",
       "freq                    472                        50928           64638   \n",
       "mean                    NaN                          NaN             NaN   \n",
       "std                     NaN                          NaN             NaN   \n",
       "min                     NaN                          NaN             NaN   \n",
       "25%                     NaN                          NaN             NaN   \n",
       "50%                     NaN                          NaN             NaN   \n",
       "75%                     NaN                          NaN             NaN   \n",
       "max                     NaN                          NaN             NaN   \n",
       "\n",
       "       consumer_disputed?  complaint_id  \n",
       "count               66806  6.680600e+04  \n",
       "unique                  2           NaN  \n",
       "top                    No           NaN  \n",
       "freq                51229           NaN  \n",
       "mean                  NaN  1.571665e+06  \n",
       "std                   NaN  1.545692e+05  \n",
       "min                   NaN  1.290181e+06  \n",
       "25%                   NaN  1.443264e+06  \n",
       "50%                   NaN  1.569485e+06  \n",
       "75%                   NaN  1.702750e+06  \n",
       "max                   NaN  1.888608e+06  "
      ]
     },
     "execution_count": 24,
     "metadata": {},
     "output_type": "execute_result"
    },
    {
     "name": "stdout",
     "output_type": "stream",
     "text": [
      "time: 396 ms\n"
     ]
    }
   ],
   "source": [
    "df1 = df.dropna(subset= ['consumer_complaint_narrative'])\n",
    "print(df1.shape)\n",
    "df1.describe(include= 'all')"
   ]
  },
  {
   "cell_type": "markdown",
   "metadata": {},
   "source": [
    "# EDA"
   ]
  },
  {
   "cell_type": "code",
   "execution_count": 25,
   "metadata": {},
   "outputs": [
    {
     "data": {
      "text/plain": [
       "<matplotlib.axes._subplots.AxesSubplot at 0x7fdee2324978>"
      ]
     },
     "execution_count": 25,
     "metadata": {},
     "output_type": "execute_result"
    },
    {
     "data": {
      "image/png": "[encoded data removed]",
      "text/plain": [
       "<Figure size 1296x432 with 1 Axes>"
      ]
     },
     "metadata": {
      "needs_background": "light"
     },
     "output_type": "display_data"
    },
    {
     "name": "stdout",
     "output_type": "stream",
     "text": [
      "time: 437 ms\n"
     ]
    }
   ],
   "source": [
    "fig,ax = plt.subplots(figsize=(18,6))\n",
    "sns.countplot(x='product',data=df1)"
   ]
  },
  {
   "cell_type": "markdown",
   "metadata": {},
   "source": [
    "From this plot we can see Debt Collection and Mortgage received maximum number of complaints"
   ]
  },
  {
   "cell_type": "markdown",
   "metadata": {},
   "source": [
    "We’ll now analyze the contingency table in form of plot to understand which product has more customer disputes on their complaints after resolving the issues"
   ]
  },
  {
   "cell_type": "code",
   "execution_count": 26,
   "metadata": {},
   "outputs": [
    {
     "data": {
      "text/plain": [
       "<matplotlib.axes._subplots.AxesSubplot at 0x7fded85369b0>"
      ]
     },
     "execution_count": 26,
     "metadata": {},
     "output_type": "execute_result"
    },
    {
     "data": {
      "image/png": "[encoded data removed]",
      "text/plain": [
       "<Figure size 432x288 with 1 Axes>"
      ]
     },
     "metadata": {
      "needs_background": "light"
     },
     "output_type": "display_data"
    },
    {
     "name": "stdout",
     "output_type": "stream",
     "text": [
      "time: 371 ms\n"
     ]
    }
   ],
   "source": [
    "pd.crosstab(df1['product'],df1['consumer_disputed?']).plot(kind='bar')"
   ]
  },
  {
   "cell_type": "code",
   "execution_count": 27,
   "metadata": {},
   "outputs": [
    {
     "data": {
      "text/plain": [
       "<matplotlib.axes._subplots.AxesSubplot at 0x7fded8460ef0>"
      ]
     },
     "execution_count": 27,
     "metadata": {},
     "output_type": "execute_result"
    },
    {
     "data": {
      "image/png": "[encoded data removed]",
      "text/plain": [
       "<Figure size 432x288 with 1 Axes>"
      ]
     },
     "metadata": {
      "needs_background": "light"
     },
     "output_type": "display_data"
    },
    {
     "name": "stdout",
     "output_type": "stream",
     "text": [
      "time: 284 ms\n"
     ]
    }
   ],
   "source": [
    "df1['date_received'] = pd.to_datetime(df1['date_received'])\n",
    "df1['month'] = df1['date_received'].dt.month\n",
    "sns.countplot(x='month',data=df1)"
   ]
  },
  {
   "cell_type": "code",
   "execution_count": 28,
   "metadata": {},
   "outputs": [
    {
     "data": {
      "text/plain": [
       "<matplotlib.axes._subplots.AxesSubplot at 0x7fdee259ff98>"
      ]
     },
     "execution_count": 28,
     "metadata": {},
     "output_type": "execute_result"
    },
    {
     "data": {
      "image/png": "[encoded data removed]",
      "text/plain": [
       "<Figure size 432x288 with 1 Axes>"
      ]
     },
     "metadata": {
      "needs_background": "light"
     },
     "output_type": "display_data"
    },
    {
     "name": "stdout",
     "output_type": "stream",
     "text": [
      "time: 272 ms\n"
     ]
    }
   ],
   "source": [
    "df1['weekday'] = df1['date_received'].dt.weekday_name\n",
    "sns.countplot(x='weekday',data=df1)"
   ]
  },
  {
   "cell_type": "code",
   "execution_count": null,
   "metadata": {},
   "outputs": [],
   "source": []
  },
  {
   "cell_type": "markdown",
   "metadata": {},
   "source": [
    "# Text Preprocessing "
   ]
  },
  {
   "cell_type": "code",
   "execution_count": 29,
   "metadata": {},
   "outputs": [
    {
     "data": {
      "text/plain": [
       "190126    has claimed i owe them 2700 for years despite ...\n",
       "Name: consumer_complaint_narrative, dtype: object"
      ]
     },
     "execution_count": 29,
     "metadata": {},
     "output_type": "execute_result"
    },
    {
     "name": "stdout",
     "output_type": "stream",
     "text": [
      "time: 1.93 s\n"
     ]
    }
   ],
   "source": [
    "df1['consumer_complaint_narrative']= df1['consumer_complaint_narrative'].str.lower()\n",
    "df1['consumer_complaint_narrative'] =df1['consumer_complaint_narrative'].str.replace(r'[^\\w\\s]',\"\")\n",
    "df1['consumer_complaint_narrative'] = df1['consumer_complaint_narrative'].str.replace(r\"xx+\\s\",\"\")\n",
    "df1['consumer_complaint_narrative'].head(1)"
   ]
  },
  {
   "cell_type": "markdown",
   "metadata": {},
   "source": [
    "Removing Stopwords"
   ]
  },
  {
   "cell_type": "code",
   "execution_count": 30,
   "metadata": {},
   "outputs": [
    {
     "name": "stdout",
     "output_type": "stream",
     "text": [
      "time: 753 µs\n"
     ]
    }
   ],
   "source": [
    "# from nltk.corpus import stopwords\n",
    "# nltk.download('stopwords')\n",
    "# stop = stopwords.words('english')\n",
    "\n",
    "# df1['consumer_complaint_narrative'] =df1['consumer_complaint_narrative'].apply(lambda x: ' '.join([i for i in x.split() if i not in stop]))\n",
    "# df1['consumer_complaint_narrative'].head(1)"
   ]
  },
  {
   "cell_type": "code",
   "execution_count": 31,
   "metadata": {},
   "outputs": [
    {
     "name": "stdout",
     "output_type": "stream",
     "text": [
      "time: 105 ms\n"
     ]
    }
   ],
   "source": [
    "train_x, valid_x, train_y, valid_y = train_test_split(df1['consumer_complaint_narrative'], df1['product'],stratify=df1['product'], \n",
    "                                                    test_size=0.25)"
   ]
  },
  {
   "cell_type": "code",
   "execution_count": 37,
   "metadata": {},
   "outputs": [
    {
     "name": "stdout",
     "output_type": "stream",
     "text": [
      "time: 34.4 ms\n"
     ]
    }
   ],
   "source": [
    "#label encoding target variable\n",
    "\n",
    "enc = preprocessing.LabelEncoder()\n",
    "train_y = enc.fit_transform(train_y)\n",
    "valid_y = enc.fit_transform(valid_y)"
   ]
  },
  {
   "cell_type": "code",
   "execution_count": 50,
   "metadata": {},
   "outputs": [
    {
     "data": {
      "text/plain": [
       "array(['Consumer Loan', 'Debt collection', 'Mortgage', ..., 'Mortgage',\n",
       "       'Mortgage', 'Mortgage'], dtype=object)"
      ]
     },
     "execution_count": 50,
     "metadata": {},
     "output_type": "execute_result"
    },
    {
     "name": "stdout",
     "output_type": "stream",
     "text": [
      "time: 10.5 ms\n"
     ]
    }
   ],
   "source": [
    "enc.inverse_transform(train_y)"
   ]
  },
  {
   "cell_type": "markdown",
   "metadata": {},
   "source": [
    "# Tokenizing text with scikit-learn "
   ]
  },
  {
   "cell_type": "markdown",
   "metadata": {},
   "source": [
    "Text preprocessing, tokenizing and filtering of stopwords are all included in CountVectorizer, which builds a dictionary of features and transforms documents to feature vectors"
   ]
  },
  {
   "cell_type": "code",
   "execution_count": 32,
   "metadata": {},
   "outputs": [
    {
     "data": {
      "text/plain": [
       "(50104, 57491)"
      ]
     },
     "execution_count": 32,
     "metadata": {},
     "output_type": "execute_result"
    },
    {
     "name": "stdout",
     "output_type": "stream",
     "text": [
      "time: 6.62 s\n"
     ]
    }
   ],
   "source": [
    "from sklearn.feature_extraction.text import CountVectorizer\n",
    "count_vect = CountVectorizer()\n",
    "X_train_counts = count_vect.fit_transform(train_x)\n",
    "X_train_counts.shape"
   ]
  },
  {
   "cell_type": "markdown",
   "metadata": {},
   "source": [
    "CountVectorizer supports counts of N-grams of words or consecutive characters. Once fitted, the vectorizer has built a dictionary of feature indices"
   ]
  },
  {
   "cell_type": "code",
   "execution_count": 33,
   "metadata": {},
   "outputs": [
    {
     "data": {
      "text/plain": [
       "11280"
      ]
     },
     "execution_count": 33,
     "metadata": {},
     "output_type": "execute_result"
    },
    {
     "name": "stdout",
     "output_type": "stream",
     "text": [
      "time: 5.29 ms\n"
     ]
    }
   ],
   "source": [
    "count_vect.vocabulary_.get(u'claimed')"
   ]
  },
  {
   "cell_type": "code",
   "execution_count": 35,
   "metadata": {},
   "outputs": [
    {
     "data": {
      "text/plain": [
       "(50104, 57491)"
      ]
     },
     "execution_count": 35,
     "metadata": {},
     "output_type": "execute_result"
    },
    {
     "name": "stdout",
     "output_type": "stream",
     "text": [
      "time: 49 ms\n"
     ]
    }
   ],
   "source": [
    "from sklearn.feature_extraction.text import TfidfTransformer\n",
    "tf_transformer = TfidfTransformer(use_idf=False).fit(X_train_counts)\n",
    "X_train_tf = tf_transformer.transform(X_train_counts)\n",
    "X_train_tf.shape"
   ]
  },
  {
   "cell_type": "code",
   "execution_count": 36,
   "metadata": {},
   "outputs": [
    {
     "data": {
      "text/plain": [
       "(50104, 57491)"
      ]
     },
     "execution_count": 36,
     "metadata": {},
     "output_type": "execute_result"
    },
    {
     "name": "stdout",
     "output_type": "stream",
     "text": [
      "time: 224 ms\n"
     ]
    }
   ],
   "source": [
    "tfidf_transformer = TfidfTransformer()\n",
    "X_train_tfidf = tfidf_transformer.fit_transform(X_train_counts)\n",
    "X_train_tfidf.shape"
   ]
  },
  {
   "cell_type": "code",
   "execution_count": null,
   "metadata": {},
   "outputs": [],
   "source": [
    "xvalid_tfidf =  tfidf_vect.transform(valid_x)"
   ]
  },
  {
   "cell_type": "markdown",
   "metadata": {},
   "source": [
    "# Training "
   ]
  },
  {
   "cell_type": "markdown",
   "metadata": {},
   "source": [
    "Now that we have our features, we can train a classifier to try to predict the category of a post. Let’s start with a naïve Bayes classifier, which provides a nice baseline for this task. scikit-learn includes several variants of this classifier; the one most suitable for word counts is the multinomial variant:"
   ]
  },
  {
   "cell_type": "code",
   "execution_count": 41,
   "metadata": {},
   "outputs": [
    {
     "name": "stdout",
     "output_type": "stream",
     "text": [
      "time: 138 ms\n"
     ]
    }
   ],
   "source": [
    "from sklearn.naive_bayes import MultinomialNB\n",
    "clf = MultinomialNB().fit(X_train_tfidf, train_y)"
   ]
  },
  {
   "cell_type": "markdown",
   "metadata": {},
   "source": [
    "# Predict "
   ]
  },
  {
   "cell_type": "code",
   "execution_count": 66,
   "metadata": {},
   "outputs": [
    {
     "name": "stdout",
     "output_type": "stream",
     "text": [
      "time: 2.28 s\n"
     ]
    }
   ],
   "source": [
    "X_new_counts = count_vect.transform(valid_x)\n",
    "X_new_tfidf = tfidf_transformer.transform(X_new_counts)\n",
    "\n",
    "predicted = clf.predict(X_new_tfidf)\n",
    "\n",
    "# for doc, category in zip(valid_x, predicted):\n",
    "#      print('%r => %s' % (doc, enc.inverse_transform(predicted)))"
   ]
  },
  {
   "cell_type": "code",
   "execution_count": 70,
   "metadata": {},
   "outputs": [
    {
     "name": "stdout",
     "output_type": "stream",
     "text": [
      "time: 2.42 ms\n"
     ]
    }
   ],
   "source": [
    "predicted_cat= pd.DataFrame(enc.inverse_transform(predicted))"
   ]
  },
  {
   "cell_type": "code",
   "execution_count": 84,
   "metadata": {},
   "outputs": [
    {
     "data": {
      "text/plain": [
       "(16702, 1)"
      ]
     },
     "execution_count": 84,
     "metadata": {},
     "output_type": "execute_result"
    },
    {
     "name": "stdout",
     "output_type": "stream",
     "text": [
      "time: 6.87 ms\n"
     ]
    }
   ],
   "source": [
    "valid_x_df= pd.DataFrame(valid_x)\n",
    "valid_x_df.reset_index(inplace= True, drop= True)\n",
    "valid_x_df.shape"
   ]
  },
  {
   "cell_type": "code",
   "execution_count": 86,
   "metadata": {},
   "outputs": [
    {
     "data": {
      "text/html": [
       "<div>\n",
       "<style scoped>\n",
       "    .dataframe tbody tr th:only-of-type {\n",
       "        vertical-align: middle;\n",
       "    }\n",
       "\n",
       "    .dataframe tbody tr th {\n",
       "        vertical-align: top;\n",
       "    }\n",
       "\n",
       "    .dataframe thead th {\n",
       "        text-align: right;\n",
       "    }\n",
       "</style>\n",
       "<table border=\"1\" class=\"dataframe\">\n",
       "  <thead>\n",
       "    <tr style=\"text-align: right;\">\n",
       "      <th></th>\n",
       "      <th>consumer_complaint_narrative</th>\n",
       "      <th>0</th>\n",
       "    </tr>\n",
       "  </thead>\n",
       "  <tbody>\n",
       "    <tr>\n",
       "      <th>16697</th>\n",
       "      <td>while checking my personal credit report i dis...</td>\n",
       "      <td>Credit reporting</td>\n",
       "    </tr>\n",
       "    <tr>\n",
       "      <th>16698</th>\n",
       "      <td>hello i purchased our home at tx  with a free ...</td>\n",
       "      <td>Mortgage</td>\n",
       "    </tr>\n",
       "    <tr>\n",
       "      <th>16699</th>\n",
       "      <td>i have worked for the same employer and have r...</td>\n",
       "      <td>Mortgage</td>\n",
       "    </tr>\n",
       "    <tr>\n",
       "      <th>16700</th>\n",
       "      <td>while reviewing my credit report i noticed an ...</td>\n",
       "      <td>Credit reporting</td>\n",
       "    </tr>\n",
       "    <tr>\n",
       "      <th>16701</th>\n",
       "      <td>midland funding is violating multiple sections...</td>\n",
       "      <td>Debt collection</td>\n",
       "    </tr>\n",
       "  </tbody>\n",
       "</table>\n",
       "</div>"
      ],
      "text/plain": [
       "                            consumer_complaint_narrative                 0\n",
       "16697  while checking my personal credit report i dis...  Credit reporting\n",
       "16698  hello i purchased our home at tx  with a free ...          Mortgage\n",
       "16699  i have worked for the same employer and have r...          Mortgage\n",
       "16700  while reviewing my credit report i noticed an ...  Credit reporting\n",
       "16701  midland funding is violating multiple sections...   Debt collection"
      ]
     },
     "execution_count": 86,
     "metadata": {},
     "output_type": "execute_result"
    },
    {
     "name": "stdout",
     "output_type": "stream",
     "text": [
      "time: 13.1 ms\n"
     ]
    }
   ],
   "source": [
    "pred= pd.concat([valid_x_df, predicted_cat], axis= 1)\n",
    "pred.tail(5)"
   ]
  },
  {
   "cell_type": "code",
   "execution_count": 91,
   "metadata": {},
   "outputs": [
    {
     "name": "stdout",
     "output_type": "stream",
     "text": [
      "                                                                                                                                                                                                                                                                                                                                                                                                                                                                                                                                                                                                                                                                                                                                                                                                                                                                                                                                                                                                                                                                                                                                                                                                                                                                                                                                                                                                                                                                                                                                                                                                                                                                                                                                                                                                                                                                                                                                                                                                                                                                                                                                                                                                                                                                                                                                                                                                                                                                                                                                                  consumer_complaint_narrative  \\\n",
      "16699  i have worked for the same employer and have recently become and i am collecting social security i have been denied loan modification on 5 occasions since 2015 the 1st because i was current with my payments and was told i needed to be 3 months behind to qualify 2nd after falling behind 3 months denied due to not being current the 3rd denial was due to  not making trial payments on a internal modification offer  the modification offer was on the last pages of a booklet which instructed me to fill out firms which were already received by the mortgage company there was no reference to any modification being included in the packet i did not thoroughly read through the entire packet and resent the forms that i previously sent which were the same forms the packet requested after sending the firms again i followed up and to my surprise was told about the  modification offer  i went through the packet and found it on the last pages the offer was the same interest rate and the mortgage being extended to 40 years although i was in financial difficulty the offer would have saved a minimal amount of money and i felt it would only hurt my situation in the long run knowing my i called to discuss with my assigned rep  whose name i have  and was told i did have to accept the modification offer and by not accepting it would allow my loan to be reviewed again for other more helpful modification offers within a week i received a notice that i was denied for  not making the trial modification payments  after the 3rd denial each time i was asked for the same documents multiple times each time i sent documents through email fax and usps i have proof that all documents were received including a documents from my account page on the mortgage company website that states all forms required were received and the modification was being reviewed \\ni knew i was being pushed aside by the mortgage company that for some reason was working very hard to not help me with the modification but i thought at some point they would have to make me a offer if i hung in there and kept giving them what they were asking for after the 5th denial in 1 year and do nt know where to turn i have a wife and children and have drained my savings and feel my hands are tied i have always worked and provided for my family i feel the modification were being encouraged for people in my situation if not who would they possibly be for \\ni would greatly appreciate any help you can offer \\n   \n",
      "16700  while reviewing my credit report i noticed an unauthorized and fraudulent inquiries initiated by bb  t dealer finance on i did not authorize any employee of bb  t to review my credit report at any time this action is innclear violation of my frca and privacy acts i had requested that bb  t provide me with any documentation to validate this inquiries within 5 business days and they have failed to do so i am requesting that these adverse information be permanently deleted from my credit profile as they have resulted in my inability to secure an employment or housing and obtain new credit \\n                                                                                                                                                                                                                                                                                                                                                                                                                                                                                                                                                                                                                                                                                                                                                                                                                                                                                                                                                                                                                                                                                                                                                                                                                                                                                                                                                                                                                                                                                                                                                                                                                                                                                                                                                                                                                                                                                                                                                       \n",
      "16701  midland funding is violating multiple sections of the fdcpa by falsely communicating information about alleged unvalidated debts to consumer reporting agencies additionally the debts they are alleging to be mine are beyond the statute of limitations for legal action in the state of new hampshire so i believe their erroneous reporting is an intentional tactic used to frustrate my attempts at obtaining credit in an effort to get me to simply pay their terms to  clear up  my reports \\n\\nto wit  midland funding is reporting an account with a balance of 190000 on an alleged original amount of 150000 on my consumer reports they are reporting themselves as the original creditor are claiming the account as a  revolving credit  account with  1 month  terms rather than as a  collection account  and are reporting continued late payments on a monthly basis as though i have a monthly payment agreement with them  i do not  \\n\\nsimilarly midland funding is reporting a second account in the amount of 60000 with identical reporting inaccuracies to the account stated above \\n                                                                                                                                                                                                                                                                                                                                                                                                                                                                                                                                                                                                                                                                                                                                                                                                                                                                                                                                                                                                                                                                                                                                                                                                                                                                                                                                                                                                                                                        \n",
      "\n",
      "                      0  \n",
      "16699  Mortgage          \n",
      "16700  Credit reporting  \n",
      "16701  Debt collection   \n",
      "time: 9.95 ms\n"
     ]
    }
   ],
   "source": [
    " pd.set_option('display.max_colwidth', -1) \n",
    "print(pred.tail(3))"
   ]
  },
  {
   "cell_type": "code",
   "execution_count": 98,
   "metadata": {},
   "outputs": [
    {
     "data": {
      "text/plain": [
       "0.657106933301401"
      ]
     },
     "execution_count": 98,
     "metadata": {},
     "output_type": "execute_result"
    },
    {
     "name": "stdout",
     "output_type": "stream",
     "text": [
      "time: 4.74 ms\n"
     ]
    }
   ],
   "source": [
    "np.mean(predicted == valid_y)"
   ]
  },
  {
   "cell_type": "markdown",
   "metadata": {},
   "source": [
    "# Building a pipeline"
   ]
  },
  {
   "cell_type": "markdown",
   "metadata": {},
   "source": [
    "In order to make the vectorizer => transformer => classifier easier to work with, scikit-learn provides a Pipeline class that behaves like a compound classifier:"
   ]
  },
  {
   "cell_type": "code",
   "execution_count": 93,
   "metadata": {},
   "outputs": [
    {
     "name": "stdout",
     "output_type": "stream",
     "text": [
      "time: 36.4 ms\n"
     ]
    }
   ],
   "source": [
    "from sklearn.pipeline import Pipeline\n",
    "text_clf = Pipeline([\n",
    "     ('vect', CountVectorizer()),\n",
    "     ('tfidf', TfidfTransformer()),\n",
    "     ('clf', MultinomialNB()),])"
   ]
  },
  {
   "cell_type": "code",
   "execution_count": 96,
   "metadata": {},
   "outputs": [
    {
     "data": {
      "text/plain": [
       "Pipeline(memory=None,\n",
       "         steps=[('vect',\n",
       "                 CountVectorizer(analyzer='word', binary=False,\n",
       "                                 decode_error='strict',\n",
       "                                 dtype=<class 'numpy.int64'>, encoding='utf-8',\n",
       "                                 input='content', lowercase=True, max_df=1.0,\n",
       "                                 max_features=None, min_df=1,\n",
       "                                 ngram_range=(1, 1), preprocessor=None,\n",
       "                                 stop_words=None, strip_accents=None,\n",
       "                                 token_pattern='(?u)\\\\b\\\\w\\\\w+\\\\b',\n",
       "                                 tokenizer=None, vocabulary=None)),\n",
       "                ('tfidf',\n",
       "                 TfidfTransformer(norm='l2', smooth_idf=True,\n",
       "                                  sublinear_tf=False, use_idf=True)),\n",
       "                ('clf',\n",
       "                 MultinomialNB(alpha=1.0, class_prior=None, fit_prior=True))],\n",
       "         verbose=False)"
      ]
     },
     "execution_count": 96,
     "metadata": {},
     "output_type": "execute_result"
    },
    {
     "name": "stdout",
     "output_type": "stream",
     "text": [
      "time: 6.37 s\n"
     ]
    }
   ],
   "source": [
    "text_clf.fit(train_x, train_y)"
   ]
  },
  {
   "cell_type": "markdown",
   "metadata": {},
   "source": [
    "# Evaluation of the performance on the test set¶\n"
   ]
  },
  {
   "cell_type": "code",
   "execution_count": 97,
   "metadata": {},
   "outputs": [
    {
     "data": {
      "text/plain": [
       "0.657106933301401"
      ]
     },
     "execution_count": 97,
     "metadata": {},
     "output_type": "execute_result"
    },
    {
     "name": "stdout",
     "output_type": "stream",
     "text": [
      "time: 2.36 s\n"
     ]
    }
   ],
   "source": [
    "predicted = text_clf.predict(valid_x)\n",
    "np.mean(predicted == valid_y)"
   ]
  },
  {
   "cell_type": "markdown",
   "metadata": {},
   "source": [
    "We achieved 65.7% accuracy. Let’s see if we can do better with a linear support vector machine (SVM), which is widely regarded as one of the best text classification algorithms (although it’s also a bit slower than naïve Bayes). We can change the learner by simply plugging a different classifier object into our pipeline:"
   ]
  },
  {
   "cell_type": "code",
   "execution_count": 99,
   "metadata": {},
   "outputs": [
    {
     "data": {
      "text/plain": [
       "Pipeline(memory=None,\n",
       "         steps=[('vect',\n",
       "                 CountVectorizer(analyzer='word', binary=False,\n",
       "                                 decode_error='strict',\n",
       "                                 dtype=<class 'numpy.int64'>, encoding='utf-8',\n",
       "                                 input='content', lowercase=True, max_df=1.0,\n",
       "                                 max_features=None, min_df=1,\n",
       "                                 ngram_range=(1, 1), preprocessor=None,\n",
       "                                 stop_words=None, strip_accents=None,\n",
       "                                 token_pattern='(?u)\\\\b\\\\w\\\\w+\\\\b',\n",
       "                                 tokenizer=None, vocabulary=Non...\n",
       "                ('clf',\n",
       "                 SGDClassifier(alpha=0.001, average=False, class_weight=None,\n",
       "                               early_stopping=False, epsilon=0.1, eta0=0.0,\n",
       "                               fit_intercept=True, l1_ratio=0.15,\n",
       "                               learning_rate='optimal', loss='hinge',\n",
       "                               max_iter=5, n_iter_no_change=5, n_jobs=None,\n",
       "                               penalty='l2', power_t=0.5, random_state=42,\n",
       "                               shuffle=True, tol=None, validation_fraction=0.1,\n",
       "                               verbose=0, warm_start=False))],\n",
       "         verbose=False)"
      ]
     },
     "execution_count": 99,
     "metadata": {},
     "output_type": "execute_result"
    },
    {
     "name": "stdout",
     "output_type": "stream",
     "text": [
      "time: 8.84 s\n"
     ]
    }
   ],
   "source": [
    "from sklearn.linear_model import SGDClassifier\n",
    "text_clf = Pipeline([\n",
    "     ('vect', CountVectorizer()),\n",
    "     ('tfidf', TfidfTransformer()),\n",
    "     ('clf', SGDClassifier(loss='hinge', penalty='l2',\n",
    "                           alpha=1e-3, random_state=42,\n",
    "                           max_iter=5, tol=None)),\n",
    " ])\n",
    "\n",
    "text_clf.fit(train_x, train_y)"
   ]
  },
  {
   "cell_type": "code",
   "execution_count": 102,
   "metadata": {},
   "outputs": [
    {
     "data": {
      "text/plain": [
       "0.7958328343910909"
      ]
     },
     "execution_count": 102,
     "metadata": {},
     "output_type": "execute_result"
    },
    {
     "name": "stdout",
     "output_type": "stream",
     "text": [
      "time: 2.51 s\n"
     ]
    }
   ],
   "source": [
    "predicted = text_clf.predict(valid_x)\n",
    "np.mean(predicted == valid_y)"
   ]
  },
  {
   "cell_type": "markdown",
   "metadata": {},
   "source": [
    "We achieved 79.5% accuracy using the SVM. scikit-learn provides further utilities for more detailed performance analysis of the results:"
   ]
  },
  {
   "cell_type": "code",
   "execution_count": 106,
   "metadata": {},
   "outputs": [
    {
     "name": "stdout",
     "output_type": "stream",
     "text": [
      "                         precision    recall  f1-score   support\n",
      "\n",
      "        Debt collection       0.82      0.73      0.77      1428\n",
      "            Payday loan       0.86      0.32      0.47       920\n",
      "               Mortgage       0.76      0.76      0.76      1982\n",
      "            Credit card       0.78      0.82      0.80      3132\n",
      "        Money transfers       0.76      0.89      0.82      4388\n",
      "Other financial service       0.88      0.18      0.30       166\n",
      "           Prepaid card       0.84      0.96      0.89      3730\n",
      "          Consumer Loan       0.00      0.00      0.00        27\n",
      "           Student loan       0.00      0.00      0.00       182\n",
      "       Credit reporting       0.84      0.27      0.41       215\n",
      "Bank account or service       0.92      0.59      0.72       532\n",
      "\n",
      "               accuracy                           0.80     16702\n",
      "              macro avg       0.68      0.50      0.54     16702\n",
      "           weighted avg       0.79      0.80      0.78     16702\n",
      "\n",
      "time: 54.9 ms\n"
     ]
    }
   ],
   "source": [
    "from sklearn import metrics\n",
    "print(metrics.classification_report(valid_y, predicted, target_names=set(enc.inverse_transform(valid_y))))"
   ]
  },
  {
   "cell_type": "code",
   "execution_count": 109,
   "metadata": {},
   "outputs": [
    {
     "data": {
      "text/plain": [
       "array([[1039,    6,  142,   58,   76,    2,   95,    0,    0,   10,    0],\n",
       "       [  25,  295,   66,  115,  229,    1,  186,    0,    1,    0,    2],\n",
       "       [  57,    3, 1499,  172,  207,    0,   43,    0,    0,    1,    0],\n",
       "       [  13,   16,   73, 2581,  347,    0,   96,    0,    0,    0,    6],\n",
       "       [  21,   14,   54,  261, 3905,    0,  116,    0,    1,    0,   16],\n",
       "       [  50,    4,   12,    5,   39,   30,   26,    0,    0,    0,    0],\n",
       "       [  11,    1,   13,   55,   78,    0, 3572,    0,    0,    0,    0],\n",
       "       [   5,    0,    0,    3,   12,    1,    5,    0,    0,    0,    1],\n",
       "       [  17,    3,   12,   12,   90,    0,   45,    0,    0,    0,    3],\n",
       "       [  31,    2,  100,    4,   14,    0,    6,    0,    0,   58,    0],\n",
       "       [   5,    0,    1,   22,  116,    0,   75,    0,    0,    0,  313]])"
      ]
     },
     "execution_count": 109,
     "metadata": {},
     "output_type": "execute_result"
    },
    {
     "name": "stdout",
     "output_type": "stream",
     "text": [
      "time: 26 ms\n"
     ]
    }
   ],
   "source": [
    "metrics.confusion_matrix(valid_y, predicted)"
   ]
  },
  {
   "cell_type": "code",
   "execution_count": 147,
   "metadata": {},
   "outputs": [
    {
     "data": {
      "image/png": "[encoded data removed]",
      "text/plain": [
       "<Figure size 576x432 with 2 Axes>"
      ]
     },
     "metadata": {
      "needs_background": "light"
     },
     "output_type": "display_data"
    },
    {
     "name": "stdout",
     "output_type": "stream",
     "text": [
      "time: 778 ms\n"
     ]
    }
   ],
   "source": [
    "from sklearn.metrics import confusion_matrix\n",
    "conf_mat = confusion_matrix(valid_y, predicted)\n",
    "fig, ax = plt.subplots(figsize=(8,6))\n",
    "sns.heatmap(conf_mat, annot=True, fmt=\"d\", cmap=\"BuPu\",xticklabels=df1['product'].unique(),yticklabels=df1['product'].unique())\n",
    "plt.ylabel('Actual')\n",
    "plt.xlabel('Predicted')\n",
    "plt.show()"
   ]
  },
  {
   "cell_type": "markdown",
   "metadata": {},
   "source": [
    "As seen from the confusion matrix badly classified classes are \n",
    ": \n",
    "  1. Other financial service  mostly classified into Debt Collection\n",
    "  2. Credit reporting mostly classified into Mortgage\n",
    "  3. Pay Day loan into Money Transfers and prepaid card\n",
    "                                                                 \n",
    "Apart from these: Consumer Loan , Student Loan perfomed worst as precesion and recall both are 0."
   ]
  },
  {
   "cell_type": "markdown",
   "metadata": {},
   "source": [
    "# Parameter tuning using grid search¶"
   ]
  },
  {
   "cell_type": "markdown",
   "metadata": {},
   "source": [
    "Instead of tweaking the parameters of the various components of the chain, it is possible to run an exhaustive search of the best parameters on a grid of possible values. We try out all classifiers on either words or bigrams, with or without idf, and with a penalty parameter of either 0.01 or 0.001 for the linear SVM:"
   ]
  },
  {
   "cell_type": "code",
   "execution_count": 111,
   "metadata": {},
   "outputs": [
    {
     "name": "stdout",
     "output_type": "stream",
     "text": [
      "time: 916 µs\n"
     ]
    }
   ],
   "source": [
    "from sklearn.model_selection import GridSearchCV\n",
    "parameters = {\n",
    "     'vect__ngram_range': [(1, 1), (1, 2)],\n",
    "     'tfidf__use_idf': (True, False),\n",
    "     'clf__alpha': (1e-2, 1e-3),}"
   ]
  },
  {
   "cell_type": "code",
   "execution_count": 112,
   "metadata": {},
   "outputs": [
    {
     "name": "stdout",
     "output_type": "stream",
     "text": [
      "time: 1.48 ms\n"
     ]
    }
   ],
   "source": [
    "gs_clf = GridSearchCV(text_clf, parameters, cv=5, n_jobs=-1)"
   ]
  },
  {
   "cell_type": "code",
   "execution_count": 117,
   "metadata": {},
   "outputs": [
    {
     "data": {
      "text/plain": [
       "(50104,)"
      ]
     },
     "execution_count": 117,
     "metadata": {},
     "output_type": "execute_result"
    },
    {
     "name": "stdout",
     "output_type": "stream",
     "text": [
      "time: 2.85 ms\n"
     ]
    }
   ],
   "source": [
    "train_x.shape"
   ]
  },
  {
   "cell_type": "code",
   "execution_count": 119,
   "metadata": {},
   "outputs": [
    {
     "data": {
      "text/plain": [
       "10.459209999999999"
      ]
     },
     "execution_count": 119,
     "metadata": {},
     "output_type": "execute_result"
    },
    {
     "name": "stdout",
     "output_type": "stream",
     "text": [
      "time: 7.42 ms\n"
     ]
    }
   ],
   "source": [
    "(5.01*50104)/(400*60)"
   ]
  },
  {
   "cell_type": "code",
   "execution_count": 120,
   "metadata": {},
   "outputs": [
    {
     "name": "stdout",
     "output_type": "stream",
     "text": [
      "time: 5min 48s\n"
     ]
    }
   ],
   "source": [
    "gs_clf = gs_clf.fit(train_x, train_y)"
   ]
  },
  {
   "cell_type": "code",
   "execution_count": 121,
   "metadata": {},
   "outputs": [
    {
     "data": {
      "text/plain": [
       "0.7947668777802145"
      ]
     },
     "execution_count": 121,
     "metadata": {},
     "output_type": "execute_result"
    },
    {
     "name": "stdout",
     "output_type": "stream",
     "text": [
      "time: 4.61 ms\n"
     ]
    }
   ],
   "source": [
    "gs_clf.best_score_"
   ]
  },
  {
   "cell_type": "code",
   "execution_count": 136,
   "metadata": {},
   "outputs": [
    {
     "data": {
      "text/plain": [
       "GridSearchCV(cv=5, error_score=nan,\n",
       "             estimator=LogisticRegression(C=1.0, class_weight=None, dual=False,\n",
       "                                          fit_intercept=True,\n",
       "                                          intercept_scaling=1, l1_ratio=None,\n",
       "                                          max_iter=100, multi_class='auto',\n",
       "                                          n_jobs=None, penalty='l2',\n",
       "                                          random_state=None, solver='lbfgs',\n",
       "                                          tol=0.0001, verbose=0,\n",
       "                                          warm_start=False),\n",
       "             iid='deprecated', n_jobs=-1,\n",
       "             param_grid={'C': [1, 2, 3, 4, 5, 6, 7, 8, 9, 10]},\n",
       "             pre_dispatch='2*n_jobs', refit=True, return_train_score=False,\n",
       "             scoring=None, verbose=0)"
      ]
     },
     "execution_count": 136,
     "metadata": {},
     "output_type": "execute_result"
    },
    {
     "name": "stdout",
     "output_type": "stream",
     "text": [
      "time: 16min 34s\n"
     ]
    }
   ],
   "source": [
    "from sklearn.model_selection import GridSearchCV\n",
    "clf = LogisticRegression()\n",
    "lr_params = {'C':[int(x) for x in np.linspace(1,10,10)]}\n",
    "grid_lr = GridSearchCV(estimator=clf,param_grid=lr_params,cv=5,n_jobs=-1)\n",
    "grid_lr.fit(X_train_tfidf,train_y)"
   ]
  },
  {
   "cell_type": "code",
   "execution_count": 137,
   "metadata": {},
   "outputs": [
    {
     "name": "stdout",
     "output_type": "stream",
     "text": [
      "{'C': 3}\n",
      "0.8492335377145122\n",
      "time: 2.73 ms\n"
     ]
    }
   ],
   "source": [
    "print(grid_lr.best_params_)\n",
    "print(grid_lr.best_score_)"
   ]
  },
  {
   "cell_type": "code",
   "execution_count": 138,
   "metadata": {},
   "outputs": [
    {
     "name": "stdout",
     "output_type": "stream",
     "text": [
      "cv\n",
      "error_score\n",
      "estimator__C\n",
      "estimator__class_weight\n",
      "estimator__dual\n",
      "estimator__fit_intercept\n",
      "estimator__intercept_scaling\n",
      "estimator__l1_ratio\n",
      "estimator__max_iter\n",
      "estimator__multi_class\n",
      "estimator__n_jobs\n",
      "estimator__penalty\n",
      "estimator__random_state\n",
      "estimator__solver\n",
      "estimator__tol\n",
      "estimator__verbose\n",
      "estimator__warm_start\n",
      "estimator\n",
      "iid\n",
      "n_jobs\n",
      "param_grid\n",
      "pre_dispatch\n",
      "refit\n",
      "return_train_score\n",
      "scoring\n",
      "verbose\n",
      "time: 66.9 ms\n"
     ]
    }
   ],
   "source": [
    "for param in grid_lr.get_params().keys():\n",
    "    print(param)"
   ]
  },
  {
   "cell_type": "code",
   "execution_count": 140,
   "metadata": {},
   "outputs": [
    {
     "data": {
      "text/plain": [
       "LogisticRegression(C=3, class_weight=None, dual=False, fit_intercept=True,\n",
       "                   intercept_scaling=1, l1_ratio=None, max_iter=100,\n",
       "                   multi_class='auto', n_jobs=None, penalty='l2',\n",
       "                   random_state=None, solver='lbfgs', tol=0.0001, verbose=0,\n",
       "                   warm_start=False)"
      ]
     },
     "execution_count": 140,
     "metadata": {},
     "output_type": "execute_result"
    },
    {
     "name": "stdout",
     "output_type": "stream",
     "text": [
      "time: 49.5 s\n"
     ]
    }
   ],
   "source": [
    "final_lr = LogisticRegression(C=3)\n",
    "final_lr.fit(X_train_tfidf,train_y)"
   ]
  },
  {
   "cell_type": "code",
   "execution_count": 141,
   "metadata": {},
   "outputs": [
    {
     "name": "stdout",
     "output_type": "stream",
     "text": [
      "time: 54.1 ms\n"
     ]
    }
   ],
   "source": [
    "final_lr_predict = final_lr.predict(X_new_tfidf)\n",
    "lr_accuracy = metrics.accuracy_score(final_lr_predict, valid_y)"
   ]
  },
  {
   "cell_type": "code",
   "execution_count": 142,
   "metadata": {},
   "outputs": [
    {
     "name": "stdout",
     "output_type": "stream",
     "text": [
      "Logistic Regression > Accuracy:  0.847263800742426\n",
      "time: 2.15 ms\n"
     ]
    }
   ],
   "source": [
    "print (\"Logistic Regression > Accuracy: \", lr_accuracy)"
   ]
  },
  {
   "cell_type": "code",
   "execution_count": 144,
   "metadata": {},
   "outputs": [
    {
     "name": "stdout",
     "output_type": "stream",
     "text": [
      "                         precision    recall  f1-score   support\n",
      "\n",
      "        Debt collection       0.81      0.80      0.80      1428\n",
      "          Consumer Loan       0.75      0.62      0.68       920\n",
      "               Mortgage       0.81      0.83      0.82      1982\n",
      "            Credit card       0.85      0.86      0.86      3132\n",
      "       Credit reporting       0.82      0.88      0.85      4388\n",
      "           Student loan       0.82      0.54      0.65       166\n",
      "Bank account or service       0.93      0.95      0.94      3730\n",
      "            Payday loan       0.00      0.00      0.00        27\n",
      "        Money transfers       0.54      0.29      0.38       182\n",
      "Other financial service       0.82      0.64      0.72       215\n",
      "           Prepaid card       0.90      0.77      0.83       532\n",
      "\n",
      "               accuracy                           0.85     16702\n",
      "              macro avg       0.73      0.65      0.68     16702\n",
      "           weighted avg       0.84      0.85      0.84     16702\n",
      "\n",
      "time: 52.7 ms\n"
     ]
    }
   ],
   "source": [
    "from sklearn.metrics import classification_report\n",
    "print(classification_report(valid_y, final_lr_predict,target_names=df1['product'].unique()))"
   ]
  },
  {
   "cell_type": "code",
   "execution_count": 146,
   "metadata": {},
   "outputs": [
    {
     "data": {
      "image/png": "[encoded data removed]",
      "text/plain": [
       "<Figure size 576x432 with 2 Axes>"
      ]
     },
     "metadata": {
      "needs_background": "light"
     },
     "output_type": "display_data"
    },
    {
     "name": "stdout",
     "output_type": "stream",
     "text": [
      "time: 1.05 s\n"
     ]
    }
   ],
   "source": [
    "from sklearn.metrics import confusion_matrix\n",
    "conf_mat = confusion_matrix(valid_y, final_lr_predict)\n",
    "fig, ax = plt.subplots(figsize=(8,6))\n",
    "sns.heatmap(conf_mat, annot=True, fmt=\"d\", cmap=\"BuPu\",xticklabels=df1['product'].unique(),yticklabels=df1['product'].unique())\n",
    "plt.ylabel('Actual')\n",
    "plt.xlabel('Predicted')\n",
    "plt.show()"
   ]
  },
  {
   "cell_type": "markdown",
   "metadata": {},
   "source": [
    "84.9% with a Logistic Regression model.\n",
    "Payday loan - this might be due to less training instances of this product \n",
    "it is mostly being predicted as Credit reporting or debt collection , is similar to one another or maybe linked with other."
   ]
  },
  {
   "cell_type": "markdown",
   "metadata": {},
   "source": [
    "# SVM"
   ]
  },
  {
   "cell_type": "code",
   "execution_count": 159,
   "metadata": {},
   "outputs": [
    {
     "data": {
      "text/plain": [
       "GridSearchCV(cv=5, error_score=nan,\n",
       "             estimator=LinearSVC(C=1.0, class_weight=None, dual=True,\n",
       "                                 fit_intercept=True, intercept_scaling=1,\n",
       "                                 loss='squared_hinge', max_iter=1000,\n",
       "                                 multi_class='ovr', penalty='l2',\n",
       "                                 random_state=None, tol=0.0001, verbose=0),\n",
       "             iid='deprecated', n_jobs=-1,\n",
       "             param_grid={'C': [0.01, 0.1, 1, 10, 100, 1000]},\n",
       "             pre_dispatch='2*n_jobs', refit=True, return_train_score=False,\n",
       "             scoring=None, verbose=0)"
      ]
     },
     "execution_count": 159,
     "metadata": {},
     "output_type": "execute_result"
    },
    {
     "name": "stdout",
     "output_type": "stream",
     "text": [
      "time: 5min 1s\n"
     ]
    }
   ],
   "source": [
    "from sklearn.svm import LinearSVC\n",
    "svc_model = LinearSVC()\n",
    "svc_params = {'C':[0.01,0.1, 1, 10, 100, 1000]}\n",
    "grid_svc = GridSearchCV(estimator=svc_model,param_grid=svc_params,cv=5,n_jobs=-1)\n",
    "grid_svc.fit(X_train_tfidf,train_y)"
   ]
  },
  {
   "cell_type": "code",
   "execution_count": 161,
   "metadata": {},
   "outputs": [
    {
     "name": "stdout",
     "output_type": "stream",
     "text": [
      "{'C': 1}\n",
      "0.8506106836322365\n",
      "time: 94.3 ms\n"
     ]
    }
   ],
   "source": [
    "print(grid_svc.best_params_)\n",
    "print(grid_svc.best_score_)"
   ]
  },
  {
   "cell_type": "code",
   "execution_count": 163,
   "metadata": {},
   "outputs": [
    {
     "data": {
      "text/plain": [
       "LinearSVC(C=1, class_weight=None, dual=True, fit_intercept=True,\n",
       "          intercept_scaling=1, loss='squared_hinge', max_iter=1000,\n",
       "          multi_class='ovr', penalty='l2', random_state=None, tol=0.0001,\n",
       "          verbose=0)"
      ]
     },
     "execution_count": 163,
     "metadata": {},
     "output_type": "execute_result"
    },
    {
     "name": "stdout",
     "output_type": "stream",
     "text": [
      "time: 5.3 s\n"
     ]
    }
   ],
   "source": [
    "final_svc = LinearSVC(C=1)\n",
    "final_svc.fit(X_train_tfidf,train_y)"
   ]
  },
  {
   "cell_type": "code",
   "execution_count": 164,
   "metadata": {},
   "outputs": [
    {
     "name": "stdout",
     "output_type": "stream",
     "text": [
      "SVC > Accuracy:  0.8508561848880374\n",
      "time: 48.5 ms\n"
     ]
    }
   ],
   "source": [
    "final_svc_predict = final_svc.predict(X_new_tfidf)\n",
    "svc_accuracy = metrics.accuracy_score(final_svc_predict, valid_y)\n",
    "print (\"SVC > Accuracy: \", svc_accuracy)"
   ]
  },
  {
   "cell_type": "code",
   "execution_count": 165,
   "metadata": {},
   "outputs": [
    {
     "name": "stdout",
     "output_type": "stream",
     "text": [
      "                         precision    recall  f1-score   support\n",
      "\n",
      "        Debt collection       0.82      0.79      0.80      1428\n",
      "          Consumer Loan       0.74      0.62      0.68       920\n",
      "               Mortgage       0.80      0.84      0.82      1982\n",
      "            Credit card       0.86      0.87      0.87      3132\n",
      "       Credit reporting       0.83      0.88      0.85      4388\n",
      "           Student loan       0.74      0.59      0.66       166\n",
      "Bank account or service       0.93      0.95      0.94      3730\n",
      "            Payday loan       0.00      0.00      0.00        27\n",
      "        Money transfers       0.56      0.33      0.42       182\n",
      "Other financial service       0.81      0.73      0.77       215\n",
      "           Prepaid card       0.91      0.80      0.85       532\n",
      "\n",
      "               accuracy                           0.85     16702\n",
      "              macro avg       0.73      0.67      0.70     16702\n",
      "           weighted avg       0.85      0.85      0.85     16702\n",
      "\n",
      "time: 45.1 ms\n"
     ]
    }
   ],
   "source": [
    "print(classification_report(valid_y, final_svc_predict,target_names=df1['product'].unique()))"
   ]
  },
  {
   "cell_type": "code",
   "execution_count": 166,
   "metadata": {},
   "outputs": [
    {
     "data": {
      "image/png": "[encoded data removed]",
      "text/plain": [
       "<Figure size 576x432 with 2 Axes>"
      ]
     },
     "metadata": {
      "needs_background": "light"
     },
     "output_type": "display_data"
    },
    {
     "name": "stdout",
     "output_type": "stream",
     "text": [
      "time: 792 ms\n"
     ]
    }
   ],
   "source": [
    "conf_mat = confusion_matrix(valid_y, final_svc_predict)\n",
    "fig, ax = plt.subplots(figsize=(8,6))\n",
    "sns.heatmap(conf_mat, annot=True, fmt=\"d\", cmap=\"BuPu\",xticklabels=df1['product'].unique(),yticklabels=df1['product'].unique())\n",
    "plt.ylabel('Actual')\n",
    "plt.xlabel('Predicted')\n",
    "plt.show()"
   ]
  },
  {
   "cell_type": "markdown",
   "metadata": {},
   "source": [
    "We saw that accuracy got 85% slightly increased from Logistic Classifier "
   ]
  },
  {
   "cell_type": "markdown",
   "metadata": {},
   "source": [
    "# XGBOOST"
   ]
  },
  {
   "cell_type": "code",
   "execution_count": 169,
   "metadata": {},
   "outputs": [
    {
     "name": "stdout",
     "output_type": "stream",
     "text": [
      "XGBoost > Accuracy:  0.8097233864207879\n",
      "time: 11min 32s\n"
     ]
    }
   ],
   "source": [
    "from xgboost import XGBClassifier\n",
    "xgb_model = XGBClassifier()\n",
    "xgb_model.fit(X_train_tfidf, train_y)\n",
    "xgb_predict = xgb_model.predict(X_new_tfidf)\n",
    "xgb_accuracy = metrics.accuracy_score(xgb_predict, valid_y)\n",
    "print (\"XGBoost > Accuracy: \", xgb_accuracy)"
   ]
  },
  {
   "cell_type": "code",
   "execution_count": 170,
   "metadata": {},
   "outputs": [
    {
     "name": "stdout",
     "output_type": "stream",
     "text": [
      "                         precision    recall  f1-score   support\n",
      "\n",
      "        Debt collection       0.78      0.75      0.76      1428\n",
      "          Consumer Loan       0.77      0.56      0.65       920\n",
      "               Mortgage       0.79      0.77      0.78      1982\n",
      "            Credit card       0.79      0.80      0.80      3132\n",
      "       Credit reporting       0.77      0.85      0.81      4388\n",
      "           Student loan       0.69      0.53      0.60       166\n",
      "Bank account or service       0.91      0.93      0.92      3730\n",
      "            Payday loan       1.00      0.04      0.07        27\n",
      "        Money transfers       0.60      0.28      0.38       182\n",
      "Other financial service       0.81      0.69      0.75       215\n",
      "           Prepaid card       0.87      0.77      0.82       532\n",
      "\n",
      "               accuracy                           0.81     16702\n",
      "              macro avg       0.80      0.63      0.67     16702\n",
      "           weighted avg       0.81      0.81      0.81     16702\n",
      "\n",
      "time: 48.5 ms\n"
     ]
    }
   ],
   "source": [
    "from sklearn.metrics import classification_report\n",
    "print(classification_report(valid_y, xgb_predict,target_names=df1['product'].unique()))"
   ]
  },
  {
   "cell_type": "code",
   "execution_count": 171,
   "metadata": {},
   "outputs": [
    {
     "data": {
      "image/png": "[encoded data removed]",
      "text/plain": [
       "<Figure size 576x432 with 2 Axes>"
      ]
     },
     "metadata": {
      "needs_background": "light"
     },
     "output_type": "display_data"
    },
    {
     "name": "stdout",
     "output_type": "stream",
     "text": [
      "time: 802 ms\n"
     ]
    }
   ],
   "source": [
    "from sklearn.metrics import confusion_matrix\n",
    "conf_mat = confusion_matrix(valid_y, xgb_predict)\n",
    "fig, ax = plt.subplots(figsize=(8,6))\n",
    "sns.heatmap(conf_mat, annot=True, fmt=\"d\", cmap=\"BuPu\",xticklabels=df1['product'].unique(),yticklabels=df1['product'].unique())\n",
    "plt.ylabel('Actual')\n",
    "plt.xlabel('Predicted')\n",
    "plt.show()"
   ]
  },
  {
   "cell_type": "markdown",
   "metadata": {},
   "source": [
    "Hyperparameter tuning XGBOOST "
   ]
  },
  {
   "cell_type": "code",
   "execution_count": 172,
   "metadata": {},
   "outputs": [
    {
     "name": "stdout",
     "output_type": "stream",
     "text": [
      "XGBoost > Accuracy:  0.8475032930188001\n",
      "time: 1h 11min 35s\n"
     ]
    }
   ],
   "source": [
    "from xgboost import XGBClassifier\n",
    "xgb_model2 = XGBClassifier(max_depth=50, n_estimators=80, learning_rate=0.1, colsample_bytree=.7, gamma=0, reg_alpha=4, eta=0.3, silent=1, subsample=0.8)\n",
    "xgb_model2.fit(X_train_tfidf, train_y)\n",
    "xgb_predict2 = xgb_model2.predict(X_new_tfidf)\n",
    "xgb_accuracy2 = metrics.accuracy_score(xgb_predict2, valid_y)\n",
    "print (\"XGBoost > Accuracy: \", xgb_accuracy2)"
   ]
  },
  {
   "cell_type": "code",
   "execution_count": null,
   "metadata": {},
   "outputs": [],
   "source": []
  },
  {
   "cell_type": "markdown",
   "metadata": {},
   "source": [
    "# Deep Learning models\n"
   ]
  },
  {
   "cell_type": "code",
   "execution_count": 173,
   "metadata": {},
   "outputs": [
    {
     "name": "stderr",
     "output_type": "stream",
     "text": [
      "Using TensorFlow backend.\n"
     ]
    },
    {
     "name": "stdout",
     "output_type": "stream",
     "text": [
      "time: 9.49 s\n"
     ]
    }
   ],
   "source": [
    "from keras.preprocessing.text import Tokenizer\n",
    "from keras.preprocessing.sequence import pad_sequences\n",
    "from keras.utils import to_categorical\n",
    "from keras.layers import Dense, Input, LSTM, Embedding, Dropout, Activation\n",
    "from keras.layers import Bidirectional, GlobalMaxPool1D, Conv1D, SimpleRNN\n",
    "from keras.models import Model\n",
    "from keras.models import Sequential\n",
    "from keras import initializers, regularizers, constraints, optimizers, layers\n",
    "from keras.layers import Dense, Input, Flatten, Dropout, BatchNormalization\n",
    "from keras.layers import Conv1D, MaxPooling1D, Embedding\n",
    "from keras.models import Sequential"
   ]
  },
  {
   "cell_type": "code",
   "execution_count": 174,
   "metadata": {},
   "outputs": [
    {
     "name": "stdout",
     "output_type": "stream",
     "text": [
      "time: 12.6 s\n"
     ]
    }
   ],
   "source": [
    "tokenizer = Tokenizer(num_words=25000)\n",
    "tokenizer.fit_on_texts(train_x.values)#total_complaints\n",
    "train_sequences = tokenizer.texts_to_sequences(train_x.values)\n",
    "test_sequences = tokenizer.texts_to_sequences(valid_x.values)"
   ]
  },
  {
   "cell_type": "code",
   "execution_count": 175,
   "metadata": {},
   "outputs": [
    {
     "name": "stdout",
     "output_type": "stream",
     "text": [
      "Found 57469 unique tokens.\n",
      "time: 839 µs\n"
     ]
    }
   ],
   "source": [
    "word_index = tokenizer.word_index# dictionary containing words and their index\n",
    "print('Found %s unique tokens.' % len(word_index))"
   ]
  },
  {
   "cell_type": "code",
   "execution_count": null,
   "metadata": {},
   "outputs": [],
   "source": []
  }
 ],
 "metadata": {
  "kernelspec": {
   "display_name": "Python 3",
   "language": "python",
   "name": "python3"
  },
  "language_info": {
   "codemirror_mode": {
    "name": "ipython",
    "version": 3
   },
   "file_extension": ".py",
   "mimetype": "text/x-python",
   "name": "python",
   "nbconvert_exporter": "python",
   "pygments_lexer": "ipython3",
   "version": "3.6.9"
  }
 },
 "nbformat": 4,
 "nbformat_minor": 2
}
